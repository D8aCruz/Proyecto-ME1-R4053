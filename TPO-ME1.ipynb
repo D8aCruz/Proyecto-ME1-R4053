{
 "cells": [
  {
   "cell_type": "markdown",
   "metadata": {},
   "source": [
    "<div style=\"display: flex; align-items: center;\">\n",
    "  <p style=\"font-family: 'American Typewriter', 'Courier New', Courier, 'Lucida Sans Typewriter', 'Lucida Typewriter', monospace; text-align: left; margin-right: auto; line-height: 1.2;\">\n",
    "    <font color='black'><strong>Medidas Electrónicas I - R4053</strong><br>Proyecto 2023<br>Grupo 5</font>\n",
    "  </p>\n",
    "  <img src=\"log-utn-frba-electronica.png\" alt=\"Logo UTN FRBA\" width=\"250\" height=\"100\" style=\"flex-shrink: 0; margin-left: 10px;\">\n",
    "</div>"
   ]
  },
  {
   "cell_type": "markdown",
   "metadata": {},
   "source": [
    "<p style=\"border: ridge white 2px; text-align: center;font-weight: italic; font-family: 'American Typewriter', 'Courier New', Courier, 'Lucida Sans Typewriter', 'Lucida Typewriter', monospace; font-size:30px; background-color:#2CD546\"><font color='white'>\n",
    "    <strong>Medidor RMS</strong>\n",
    "</p>"
   ]
  },
  {
   "cell_type": "markdown",
   "metadata": {},
   "source": [
    "<!DOCTYPE html>\n",
    "<html>\n",
    "<head>\n",
    "<style>\n",
    "  /* Estilos CSS aquí */\n",
    "  body {\n",
    "    font-family: Arial, sans-serif;\n",
    "    background-color: white;\n",
    "    color: black;\n",
    "    margin: 20px;\n",
    "    padding: 20px;\n",
    "  }\n",
    "</style>\n",
    "</head>\n",
    "<body>\n",
    "<p style=\"text-align: justify; font-weight: italic; font-size:15px;\">\n",
    "  <strong>OBJETIVO:</strong>\n",
    "</p>\n",
    "<p style=\"text-align: justify; font-weight: italic; font-size:15px;\">\n",
    "Realizar un informe detallado sobre las características del instrumento, la magnitud a medir, partes que la componen y su principio de funcionamiento. Además de incluir cálculos de incertidumbre, método utilizado para la calibración del equipo.</p>\n",
    "</body>\n",
    "</html>"
   ]
  },
  {
   "cell_type": "markdown",
   "metadata": {},
   "source": [
    "<div style=\"text-align: left;\">\n",
    "  <span style=\"border: 2px solid white; padding: 5px; display: inline-block; background-color: green; font-family: 'American Typewriter', 'Courier New', Courier, 'Lucida Sans Typewriter', 'Lucida Typewriter', monospace; font-size: 20px; color: #FFFFFF; font-weight: bold;\">\n",
    "    I.\tDescripción de la necesidad que satisface el equipo de medicióna\n",
    "  </span>\n",
    "</div>"
   ]
  },
  {
   "cell_type": "markdown",
   "metadata": {},
   "source": [
    "<p style=\"text-align: justify; font-weight: italic; font-size:15px;\">\n",
    "El equipo de medición satisface la necesidad de medir con precisión el Valor eficaz (RMS, por sus siglas en inglés) de pequeñas señales de baja frecuencia (en el entorno de las frecuencias de audio), con el fin de evaluar la calidad de sonido para sistemas de audio. La medición del valor RMS en estas señales permite evaluar el nivel de ruido presente a la entrada y a la salida de cada una de las etapas que compone un sistema de audio. Dicha evaluación es esencial para determinar la relación señal a ruido y, en consecuencia, evidenciar o no la fidelidad del audio en cuestión.</p>"
   ]
  },
  {
   "cell_type": "markdown",
   "metadata": {},
   "source": [
    "<div style=\"text-align: left;\">\n",
    "  <span style=\"border: 2px solid white; padding: 5px; display: inline-block; background-color: green; font-family: 'American Typewriter', 'Courier New', Courier, 'Lucida Sans Typewriter', 'Lucida Typewriter', monospace; font-size: 20px; color: #FFFFFF; font-weight: bold;\">\n",
    "    II.\tDescripción de las características de los parámetros a medir\n",
    "  </span>\n",
    "</div>"
   ]
  },
  {
   "cell_type": "markdown",
   "metadata": {},
   "source": [
    "<p style=\"text-align: justify; font-weight: italic; font-size:15px;\">\n",
    "El valor RMS (Root Mean Square) es un parámetro utilizado para medir la magnitud de la señal eléctrica o una señal periódica. El valor RMS es una medida directa de la potencia o el valor de calentamiento de una tensión alterna en comparación con una tensión de corriente continua. En otras palabras, una señal AC de 1V RMS produce la misa cantidad de calor en una resistencia que una señal de DC de 1V. El valor RMS se calcula tomando la raíz cuadrada de la media de los cuadrados de los valores de la señal a lo largo de un periodo completo: </p>\n",
    "\n",
    "$$V_{RMS} = \\sqrt{\\frac{1}{T} \\int_{0}^{T} x^2(t) \\, dt}$$\n",
    "\n",
    "<p style=\"text-align: justify; font-weight: italic; font-size:15px;\">\n",
    "Este enfoque tiene en cuenta tanto los valores positivos como negativos de la señal y los pondera de manera uniforme. Para el caso de señales no periódicas el calculo tiene un pequeño cambia: </p>\n",
    "\n",
    "\n",
    "$$V_{RMS}^2 = \\frac{1}{T} \\int_{0}^{T} [v^2(t)] \\, dt$$\n",
    "\n",
    "<p style=\"text-align: justify; font-weight: italic; font-size:15px;\">\n",
    "Este enfoque tiene en cuenta tanto los valores positivos como negativos de la señal y los pondera de manera uniforme. Para el caso de señales no periódicas el calculo tiene un pequeño cambia: </p>\n",
    "\n",
    "$$Avg[v(t)]^2 = \\frac{1}{T} \\int_{0}^{T} [v^2(t)] \\, dt$$"
   ]
  },
  {
   "cell_type": "markdown",
   "metadata": {},
   "source": [
    "<div style=\"text-align: left;\">\n",
    "  <span style=\"border: 2px solid white; padding: 5px; display: inline-block; background-color: green; font-family: 'American Typewriter', 'Courier New', Courier, 'Lucida Sans Typewriter', 'Lucida Typewriter', monospace; font-size: 20px; color: #FFFFFF; font-weight: bold;\">\n",
    "    III.\tDetalle del principio de funcionamiento del sensor utilizado.\n",
    "  </span>\n",
    "</div>"
   ]
  },
  {
   "cell_type": "markdown",
   "metadata": {},
   "source": [
    "<p style=\"text-align: justify; font-weight: italic; font-size:15px;\">\n",
    "Para medir el valor RMS vamos a utilizar el integrado AD736 de Analog Devices, que es un conversor de verdadero valor eficaz (RMS) a corriente continua (CC) monolítico, de baja potencia y alta precisión. El AD736 puede calcular el valor eficaz (RMS) de tensión de entrada tanto de alterna como de continua. También puede operar como un dispositivo acoplado en AC agregando un capacitor externo. En este modo, el AD736 puede resolver niveles de señal de entrada de 100μV RMS o menos, a pesar de las variaciones de temperatura o tensión de alimentación. También se mantiene una alta precisión para formas de onda de entrada con factores de cresta de 1 a 3. Además, se puede medir factores de cresta de hasta 5 (introduciendo solo un 2.5% de error adicional). Este integrado requiere solo 200uA de corriente de alimentación y está optimizado para su uso como multímetro y otras aplicaciones alimentadas por batería</p>\n",
    "<div style=\"max-width: 200%; text-align: center;\">\n",
    "  <img src=\"Imagen1.png\" alt=\"Texto alternativo\" style=\"max-width: 200%;\">\n",
    "</div>\n",
    "\n",
    "<p style=\"text-align: justify; font-weight: italic; font-size:15px;\">\n",
    "Como se muestra en la figura 1 el AD736 cuenta con cinco subsecciones funcionales: el amplificador de entrada, el rectificador de onda completa (FWR), el núcleo RMS, el amplificador de salida y la sección de polarización.</p>\n",
    "\n",
    "<p style=\"text-align: justify; font-weight: italic; font-size:15px;\">\n",
    "El amplificador de entrada FET es alta impedancia (de 10^12 Ω) con buffer, de baja corriente de polarización, adecuada para su uso con atenuadores de entrada de alta impedancia. La señal del amplificador de entrada ingresa a un rectificador de precisión de onda completa que, su salida pasa al núcleo RMS. Las operaciones fundamentales del cálculo del valor eficaz (RMS), como elevar al cuadrado, promediar y calcular la raíz cuadrada, se realiza en el núcleo RMS utilizando un capacitor de promedio externo, CAV. Sin este capacitor la señal de entrada rectificada atraviesa el núcleo sin procesarse. Como última subsección tenemos, un amplificador de salida, que almacena en un buffer la salida del núcleo y permite realizar la filtración opcional pasa bajos, mediante un capacitor externo CF, que se conecta en el camino de retroalimentación del amplificador. Esta etapa adicional de filtrado ayuda a reducir cualquier fluctuación en la salida que no se haya eliminado mediante el capacitor CAV.</h2>\n",
    "<h3> 3.1\tCómo funcionan los convertidores de RMS a DC.</h3>\n",
    "\n",
    "<p style=\"text-align: justify; font-weight: italic; font-size:15px;\">\n",
    "Los convertidores de RMS a DC resuelven una ecuación implícita para determinar el valor RMS de una tensión. A continuación, se mostrarán las transformaciones que conducen desde la definición de la tensión RMS hasta la ecuación implícita. Luego, se explicará la implementación de esta ecuación implícita en un convertidor de RMS a DC monolítico.</p>\n",
    "\n",
    "<p style=\"text-align: justify; font-weight: italic; font-size:15px;\">\n",
    "La definición del valor RMS de una tensión es la siguiente: </p>\n",
    "\n",
    "$$V_{RMS} = \\sqrt{\\frac{1}{T} \\int_{0}^{T} x^2(t) \\, dt}$$\n",
    "\n",
    "<p style=\"text-align: justify; font-weight: italic; font-size:15px;\">\n",
    "Donde V_RMS es el valor RMS, T es la duración de la medición y v(t) es la tensión instantánea, una función del tiempo, pero no necesariamente periódica. </p>\n",
    "\n",
    "<p style=\"text-align: justify; font-weight: italic; font-size:15px;\">\n",
    "Al elevar ambos lados de esta ecuación al cuadrado, se obtiene:</p>\n",
    "\n",
    "$$V_{RMS}^2 = \\frac{1}{T} \\int_{0}^{T} [v^2(t)] \\, dt$$\n",
    "\n",
    "<p style=\"text-align: justify; font-weight: italic; font-size:15px;\">\n",
    "La integral se puede aproximar como un promedio móvil:</p>\n",
    "\n",
    "$$Avg[v(t)]^2 = \\frac{1}{T} \\int_{0}^{T} [v^2(t)] \\, dt$$\n",
    "\n",
    "<p style=\"text-align: justify; font-weight: italic; font-size:15px;\">\n",
    "Luego, la Ecuación 2 se simplifica a:</p>\n",
    "\n",
    "$$V_{RMS}^2 = \\text{Avg}[v^2(t)]$$\n",
    "\n",
    "<p style=\"text-align: justify; font-weight: italic; font-size:15px;\">\n",
    "Dividiendo ambos lados por VRMS se obtiene:</p>\n",
    "\n",
    "<p style=\"text-align: justify; font-weight: italic; font-size:15px;\">\n",
    "Luego, la Ecuación 2 se simplifica a:</p>\n",
    "\n",
    "$$V_{RMS} = \\frac{\\text{Avg}[v^2(t)]}{V_{RMS}}$$\n",
    "\n",
    "<p style=\"text-align: justify; font-weight: italic; font-size:15px;\">\n",
    "Esta expresión proporciona la base para la solución implícita de V_RMS y es la técnica utilizada en la línea de convertidores de RMS a DC monolíticos de Analog Devices.</p>\n",
    "\n",
    "<p style=\"text-align: justify; font-weight: italic; font-size:15px;\">\n",
    "Cabe destacar que al tomar la raíz cuadrada de ambos lados de la Ecuación 4 se obtiene:</p>\n",
    "\n",
    "$$V_{RMS} = \\sqrt{\\text{Avg}[v^2(t)]}$$\n",
    "\n",
    "<p style=\"text-align: justify; font-weight: italic; font-size:15px;\">\n",
    "Este es un método alternativo para expresar el valor RMS (raíz cuadrada de la media de los cuadrados) de la función.</p>\n",
    "\n",
    "<p style=\"text-align: justify; font-weight: italic; font-size:15px;\">\n",
    "El método implícito de cálculo de valores RMS es preferible al método explícito (elevar al cuadrado sucesivamente, promediar y tomar la raíz cuadrada de la señal de entrada) por razones prácticas que resultan en un rango dinámico superior. Utilizando el método explícito, la salida del cuadrador variará en un rango dinámico de 10,000:1 (de 1 mV a 10 V) para una entrada instantánea de 100:1 (de 0.1 V a 10 V). Dado que el cuadrador de entrada utilizado en el método explícito tendrá errores mayores de 1 mV, el error dependerá fuertemente del nivel de señal, lo que resulta en un rango dinámico general de menos de 100:1.</p>\n",
    "\n",
    "<p style=\"text-align: justify; font-weight: italic; font-size:15px;\">\n",
    "La Figura 2 muestra el método implícito de conversión de RMS a DC. El circuito es esencialmente una computadora analógica que resuelve la Ecuación 5. Los dispositivos de Analog Devices AD536A, AD636, AD637, AD736 y AD737 utilizan variaciones de este enfoque.</p>\n",
    "\n",
    "<div style=\"max-width: 100%; text-align: center;\">\n",
    "  <img src=\"Imagen2.png\" alt=\"Texto alternativo\" style=\"max-width: 100%;\">\n",
    "</div>\n",
    "\n",
    "<p style=\"text-align: justify; font-weight: italic; font-size:15px;\">\n",
    "La etapa de entrada es un búfer de ganancia unitaria, que no está comprometido en los dispositivos AD536A, AD636 y AD637 y está comprometido en los dispositivos AD736 y AD737. \"No comprometido\" en este contexto significa que tanto las entradas como la conexión de salida son accesibles; el usuario tiene la opción de utilizar este búfer como una entrada de alta impedancia para el convertidor, utilizarlo para construir un filtro activo que siga al filtro de promediado del convertidor RMS a DC o simplemente dejarlo desconectado.</p>\n",
    "\n",
    "<p style=\"text-align: justify; font-weight: italic; font-size:15px;\">\n",
    "Un circuito de valor absoluto (es decir, un rectificador de onda completa de precisión) sigue al búfer de entrada. La salida del circuito de valor absoluto impulsa un cuadrador/divisor. El cuadrador/divisor eleva al cuadrado la señal de entrada y la divide por la señal de salida, que es la salida promediada del circuito de cuadratura. Al cerrar el lazo alrededor del divisor, se resuelve continuamente la Ecuación 5.</p>\n",
    "\n",
    "<h3> 3.2\tEspecificaciones técnicas</h3>\n",
    "\n",
    "<ul>\n",
    "  <li style=\"text-align: justify; font-weight: italic; font-size:15px;\">Convierte una forma de onda de voltaje alterna (AC) en un voltaje directo (DC) y luego lo convierte en verdadero valor eficaz (RMS), valor rectificado promedio o valor absoluto.</li>\n",
    "  <li style=\"text-align: justify; font-weight: italic; font-size:15px;\">Rango de entrada de hasta 200 mV RMS a escala completa (con opciones para entradas más grandes mediante un atenuador de entrada).</li>\n",
    "  <li style=\"text-align: justify; font-weight: italic; font-size:15px;\">Alta impedancia de entrada de 10^12 ohmios, lo que significa que no carga la fuente de señal.</li>\n",
    "  <li style=\"text-align: justify; font-weight: italic; font-size:15px;\">Corriente de polarización de entrada baja, con un máximo de 25μA.</li>\n",
    "  <li style=\"text-align: justify; font-weight: italic; font-size:15px;\">Alta precisión con un error de ±0.3 mV ± 0.3% de la lectura, especialmente con señales sinusoidales.</li>\n",
    "  <li style=\"text-align: justify; font-weight: italic; font-size:15px;\">Capacidad de conversión RMS con factores de cresta de señal de hasta 5.</li>\n",
    "  <li style=\"text-align: justify; font-weight: italic; font-size:15px;\">Amplio rango de fuente de alimentación de +2.8 V a -3.2 V a ±16.5 V.</li>\n",
    "  <li style=\"text-align: justify; font-weight: italic; font-size:15px;\">Consumo de energía bajo, con una corriente máxima de suministro de 200 µA.</li>\n",
    "  <li style=\"text-align: justify; font-weight: italic; font-size:15px;\">Ofrece una salida de voltaje en búfer, lo que proporciona flexibilidad de diseño.</li>\n",
    "  <li style=\"text-align: justify; font-weight: italic; font-size:15px;\">No requiere ajustes externos para lograr la precisión especificada.</li>\n",
    "</ul>\n",
    "\n",
    "<h3> 3.3\tAmpliación de los Rangos de Entrada a Escala Completa del AD736 y AD737</h3>\n",
    "\n",
    "<p style=\"text-align: justify; font-weight: italic; font-size:15px;\">\n",
    "La entrada de alta impedancia (Pin 2) del AD736 y AD737 permite el uso de atenuadores resistivos simples (Figura 2) para ampliar su rango de entrada. Sin atenuación de entrada, tanto el AD736 como el AD737 pueden medir con precisión señales de entrada de hasta 200 mV rms con factores de cresta de 1 a 3.</p>\n",
    "\n",
    "<p style=\"text-align: justify; font-weight: italic; font-size:15px;\">\n",
    "El atenuador externo simplemente reduce la entrada a escala completa al rango de entrada de 200 mV rms del AD736 o AD737. Por ejemplo, para una entrada máxima de 7 V rms (10 V pico), el atenuador debería ser un divisor de voltaje de 35:1 (7/0.2). La lectura del convertidor debe escalarse por el factor de atenuación utilizado. </p>\n",
    "\n",
    "<div style=\"max-width: 100%; text-align: center;\">\n",
    "  <img src=\"Imagen3.png\" alt=\"Texto alternativo\" style=\"max-width: 100%;\">\n",
    "</div>\n"
   ]
  },
  {
   "cell_type": "markdown",
   "metadata": {},
   "source": [
    "<div style=\"text-align: left;\">\n",
    "  <span style=\"border: 2px solid white; padding: 5px; display: inline-block; background-color: green; font-family: 'American Typewriter', 'Courier New', Courier, 'Lucida Sans Typewriter', 'Lucida Typewriter', monospace; font-size: 18px; color: #FFFFFF; font-weight: bold;\">\n",
    "    IV.\tDescripción del principio de funcionamiento de los sensores descartados.\n",
    "  </span>\n",
    "</div>"
   ]
  },
  {
   "cell_type": "code",
   "execution_count": null,
   "metadata": {},
   "outputs": [],
   "source": []
  },
  {
   "cell_type": "markdown",
   "metadata": {},
   "source": [
    "<div style=\"text-align: left;\">\n",
    "  <span style=\"border: 2px solid white; padding: 5px; display: inline-block; background-color: green; font-family: 'American Typewriter', 'Courier New', Courier, 'Lucida Sans Typewriter', 'Lucida Typewriter', monospace; font-size: 20px; color: #FFFFFF; font-weight: bold;\">\n",
    "    V.\tDiagrama en bloques del sistema.\n",
    "  </span>\n",
    "</div>"
   ]
  },
  {
   "cell_type": "markdown",
   "metadata": {},
   "source": [
    "<div style=\"max-width: 100%; text-align: center;\">\n",
    "  <img src=\"DiagramaEnBloque.jpg\" alt=\"Texto alternativo\" style=\"max-width: 100%;\">\n",
    "</div>"
   ]
  },
  {
   "cell_type": "markdown",
   "metadata": {},
   "source": [
    "<div style=\"text-align: left;\">\n",
    "  <span style=\"border: 2px solid white; padding: 5px; display: inline-block; background-color: green; font-family: 'American Typewriter', 'Courier New', Courier, 'Lucida Sans Typewriter', 'Lucida Typewriter', monospace; font-size: 20px; color: #FFFFFF; font-weight: bold;\">\n",
    "    VI.\tDiagrama del flujo del algoritmo utilizado.\n",
    "  </span>\n",
    "</div>"
   ]
  },
  {
   "cell_type": "markdown",
   "metadata": {},
   "source": [
    "<div style=\"max-width: 100%; text-align: Left;\">\n",
    "  <img src=\"Imagen4.jpg\" alt=\"Texto alternativo\" style=\"max-width: 100%;\">\n",
    "</div>"
   ]
  },
  {
   "cell_type": "markdown",
   "metadata": {},
   "source": [
    "<div style=\"text-align: left;\">\n",
    "  <span style=\"border: 2px solid white; padding: 5px; display: inline-block; background-color: green; font-family: 'American Typewriter', 'Courier New', Courier, 'Lucida Sans Typewriter', 'Lucida Typewriter', monospace; font-size: 20px; color: #FFFFFF; font-weight: bold;\">\n",
    "    VII.\tCálculo de las incertidumbres del equipo.\n",
    "  </span>\n",
    "</div>"
   ]
  },
  {
   "cell_type": "markdown",
   "metadata": {},
   "source": [
    "**Impedancia de entrada**\n",
    "- R3 = 5.7MΩ ± 5% 0.25W\n",
    "- R4 = 3.3MΩ ± 5% 0.25W\n",
    "- R5 = 750kΩ ± 5% 0.25W\n",
    "- R6 = 51kΩ ± 5% 0.25W\n",
    "- R7 = 150kΩ ± 5% 0.25W\n",
    "- R8 = 51kΩ ± 5% 0.25W\n",
    "- Rx = 47kΩ ± 5% 1W\n",
    "\n",
    "**AD736J**\n",
    "- Tensión de alimentación: ± 5V\n",
    "- Impedancia de entrada: 10^12 Ω\n",
    "- Factor de conversión: K = 1[V/Vrms]\n",
    "- VRMSmáx = 200mVrms\n",
    "- Error: 0.3mV ± 0.3%\n",
    "\n",
    "**MCP602**\n",
    "- Rail-to-rail Input/Output\n",
    "- Tensión de alimentación: 1.8V a 5.5V\n",
    "- Ancho de banda: 1MHz\n",
    "- Voutmáx: 4.975V\n",
    "- Voutmín: 25mV\n",
    "\n",
    "**Circuito No Inversor:**\n",
    "- R1 = 33kΩ ± 5% 0.25W\n",
    "- R2 = 750kΩ ± 5% 0.25W\n",
    "- Av = (1 + R2/R1)\n",
    "\n",
    "**CAD**\n",
    "- Resolución: 10 bits\n",
    "- Precisión: ±2 LSB\n",
    "- Tiempo de conversión: 65 a 260 µs\n",
    "- VREF = 5V ± 1%\n",
    "\n",
    "**Esc. 200mV**\n",
    "$$ A_t = 1$$\n",
    "**Esc. 2V**\n",
    "$$ A_t = \\frac{R3 + R4 + R5 + R6 + R7 + R8}{R5 + R6 + R7 + R8} $$\n",
    "**Esc. 10V**\n",
    "$$ A_t = \\frac{R3 + R4 + R5 + R6 + R7 + R8}{R7 + R8} $$\n",
    "\n"
   ]
  },
  {
   "cell_type": "markdown",
   "metadata": {},
   "source": [
    "<h3 style=\"text-align: center;\"> Ecucaciones </h3>"
   ]
  },
  {
   "cell_type": "markdown",
   "metadata": {},
   "source": [
    "$$V_{out} = V_{dc} \\cdot A_v$$\n",
    "$$V_{dc} = K \\cdot V_{rms}$$\n",
    "$$V_{rms} = V_{in} \\cdot A_t$$\n",
    "$$V_{out} = \\frac{V_{in} \\cdot A_v}{A_t}$$"
   ]
  },
  {
   "cell_type": "code",
   "execution_count": 11,
   "metadata": {},
   "outputs": [],
   "source": [
    "import numpy as np\n",
    "\n",
    "K = 1\n",
    "Vin = 0.2\n",
    "At_200mv = 1\n",
    "Vrms = Vin * At_200mv\n",
    "\n",
    "R1 = 33.0       #   kΩ ± 5% 0.25W\n",
    "ur_R1 = 0.05/2\n",
    "R2 = 750.0      #   kΩ ± 5% 0.25W\n",
    "ur_R2 = 0.05/2\n",
    "R3 = 5700.0     #   kΩ ± 5% 0.25W\n",
    "ur_R3 = 0.05/2\n",
    "R4 = 3300.0     #   kΩ ± 5% 0.25W\n",
    "ur_R4 = 0.05/2\n",
    "R5 = 750.0      #   kΩ ± 5% 0.25W\n",
    "ur_R5 = 0.05/2\n",
    "R6 = 51.0       #   kΩ ± 5% 0.25W\n",
    "ur_R6 = 0.05/2\n",
    "R7 = 150.0      #   kΩ ± 5% 0.25W\n",
    "ur_R7 = 0.05/2\n",
    "R8 = 51.0       #   kΩ ± 5% 0.25W\n",
    "ur_R8 = 0.05/2\n",
    "Rx = 47.0       #   kΩ ± 5% 1W\n",
    "ur_Rx = 0.05/2"
   ]
  },
  {
   "cell_type": "code",
   "execution_count": 13,
   "metadata": {},
   "outputs": [
    {
     "name": "stdout",
     "output_type": "stream",
     "text": [
      "0.06773053459641261 23.727272727272727\n",
      "0.033939929716765196\n",
      "0.06864955629672109\n"
     ]
    }
   ],
   "source": [
    "# Incertidumbre AD736\n",
    "ur_AD736 = 0.3/200 + 0.003\n",
    "\n",
    "# Incertidumbre MCP6002\n",
    "Vout_max = 4.975\n",
    "Vout_min = 0.025\n",
    "\n",
    "Av = (1 + R2/R1)\n",
    "u_R1 = ur_R1 * R1\n",
    "u_R2 = ur_R2 * R2\n",
    "u_Av = np.sqrt((u_R2/R1)**2 + (R2*u_R1/(R1**2))**2)\n",
    "ur_Av = u_Av/Av\n",
    "print(ur_Av, Av)\n",
    "\n",
    "# Incertidumbre Vout\n",
    "Vout = Vin * Av/At_200mv\n",
    "ur_Vout = np.sqrt(ur_AD736**2 + ur_Av**2)/2\n",
    "print(ur_Vout)\n",
    "\n",
    "# Incertidumbre CAD\n",
    "N = 10          # Resolución 10 bits\n",
    "u_CAD = 2       # Precisión: ±2 LSB\n",
    "ur_CAD = (2/2**N)/np.sqrt(3)\n",
    "Vref = 5        # VREF = 5V ± 1%\n",
    "ur_Vref = 0.01/2\n",
    "Ctas = 2**N * Vout/Vref\n",
    "ur_Ctas = np.sqrt(ur_Vout**2 + ur_Vref**2 + ur_CAD**2 )\n",
    "UR_Ctas = 2*ur_Ctas\n",
    "print(UR_Ctas)\n"
   ]
  },
  {
   "cell_type": "markdown",
   "metadata": {},
   "source": [
    "<div style=\"text-align: left;\">\n",
    "  <span style=\"border: 2px solid white; padding: 5px; display: inline-block; background-color: green; font-family: 'American Typewriter', 'Courier New', Courier, 'Lucida Sans Typewriter', 'Lucida Typewriter', monospace; font-size: 20px; color: #FFFFFF; font-weight: bold;\">\n",
    "    VIII.\tAnálisis y conclusiones referidas a la incertidumbre lograda.\n",
    "  </span>\n",
    "</div>"
   ]
  }
 ],
 "metadata": {
  "kernelspec": {
   "display_name": "Python 3",
   "language": "python",
   "name": "python3"
  },
  "language_info": {
   "codemirror_mode": {
    "name": "ipython",
    "version": 3
   },
   "file_extension": ".py",
   "mimetype": "text/x-python",
   "name": "python",
   "nbconvert_exporter": "python",
   "pygments_lexer": "ipython3",
   "version": "3.10.11"
  }
 },
 "nbformat": 4,
 "nbformat_minor": 2
}
