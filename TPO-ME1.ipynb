{
 "cells": [
  {
   "cell_type": "markdown",
   "metadata": {},
   "source": [
    "<div style=\"display: flex; align-items: center;\">\n",
    "  <p style=\"font-family: 'American Typewriter', 'Courier New', Courier, 'Lucida Sans Typewriter', 'Lucida Typewriter', monospace; text-align: left; margin-right: auto; line-height: 1.2;\">\n",
    "    <font color='black'><strong>Medidas Electrónicas I - R4053</strong><br>TPO-2023<br>Grupo 8</font>\n",
    "  </p>\n",
    "  <img src=\"logo-utn-frba-electronica.svg\" alt=\"Logo UTN FRBA\" width=\"250\" height=\"100\" style=\"flex-shrink: 0; margin-left: 10px;\">\n",
    "</div>"
   ]
  },
  {
   "cell_type": "markdown",
   "metadata": {},
   "source": [
    "<p style=\"border: ridge white 2px; text-align: center;font-weight: italic; font-family: 'American Typewriter', 'Courier New', Courier, 'Lucida Sans Typewriter', 'Lucida Typewriter', monospace; font-size:30px; background-color:#2CD546\"><font color='white'>\n",
    "    <strong>Medidor RMS</strong>\n",
    "</p>"
   ]
  },
  {
   "cell_type": "markdown",
   "metadata": {},
   "source": [
    "<!DOCTYPE html>\n",
    "<html>\n",
    "<head>\n",
    "<style>\n",
    "  /* Estilos CSS aquí */\n",
    "  body {\n",
    "    font-family: Arial, sans-serif;\n",
    "    background-color: white;\n",
    "    color: black;\n",
    "    margin: 20px;\n",
    "    padding: 20px;\n",
    "  }\n",
    "</style>\n",
    "</head>\n",
    "<body>\n",
    "<p style=\"text-align: justify; font-weight: italic; font-size:15px;\">\n",
    "  <strong>OBJETIVO:</strong>\n",
    "</p>\n",
    "<p style=\"text-align: justify; font-weight: italic; font-size:15px;\">\n",
    "Realizar un informe detallado sobre las características del instrumento, la magnitud a medir, partes que la componen y su principio de funcionamiento. Además de incluir cálculos de incertidumbre, método utilizado para la calibración del equipo.</p>\n",
    "</body>\n",
    "</html>"
   ]
  },
  {
   "cell_type": "markdown",
   "metadata": {},
   "source": [
    "<div style=\"text-align: left;\">\n",
    "  <span style=\"border: 2px solid white; padding: 5px; display: inline-block; background-color: green; font-family: 'American Typewriter', 'Courier New', Courier, 'Lucida Sans Typewriter', 'Lucida Typewriter', monospace; font-size: 20px; color: #FFFFFF; font-weight: bold;\">\n",
    "    I.\tDescripción de la necesidad que satisface el equipo de medicióna\n",
    "  </span>\n",
    "</div>"
   ]
  },
  {
   "cell_type": "markdown",
   "metadata": {},
   "source": [
    "<p style=\"text-align: justify; font-weight: italic; font-size:15px;\">\n",
    "El equipo de medición satisface la necesidad de medir con precisión el Valor eficaz (RMS, por sus siglas en inglés) de pequeñas señales de baja frecuencia (en el entorno de las frecuencias de audio), con el fin de evaluar la calidad de sonido para sistemas de audio. La medición del valor RMS en estas señales permite evaluar el nivel de ruido presente a la entrada y a la salida de cada una de las etapas que compone un sistema de audio. Dicha evaluación es esencial para determinar la relación señal a ruido y, en consecuencia, evidenciar o no la fidelidad del audio en cuestión.</p>"
   ]
  },
  {
   "cell_type": "markdown",
   "metadata": {},
   "source": [
    "<div style=\"text-align: left;\">\n",
    "  <span style=\"border: 2px solid white; padding: 5px; display: inline-block; background-color: green; font-family: 'American Typewriter', 'Courier New', Courier, 'Lucida Sans Typewriter', 'Lucida Typewriter', monospace; font-size: 20px; color: #FFFFFF; font-weight: bold;\">\n",
    "    II.\tDescripción de las características de los parámetros a medir\n",
    "  </span>\n",
    "</div>"
   ]
  },
  {
   "cell_type": "markdown",
   "metadata": {},
   "source": [
    "<p style=\"text-align: justify; font-weight: italic; font-size:15px;\">\n",
    "El valor RMS (Root Mean Square) es un parámetro utilizado para medir la magnitud de la señal eléctrica o una señal periódica. El valor RMS es una medida directa de la potencia o el valor de calentamiento de una tensión alterna en comparación con una tensión de corriente continua. En otras palabras, una señal AC de 1V RMS produce la misa cantidad de calor en una resistencia que una señal de DC de 1V. El valor RMS se calcula tomando la raíz cuadrada de la media de los cuadrados de los valores de la señal a lo largo de un periodo completo: </p>\n",
    "\n",
    "$$V_{RMS} = \\sqrt{\\frac{1}{T} \\int_{0}^{T} x^2(t) \\, dt}$$\n",
    "\n",
    "<p style=\"text-align: justify; font-weight: italic; font-size:15px;\">\n",
    "Este enfoque tiene en cuenta tanto los valores positivos como negativos de la señal y los pondera de manera uniforme. Para el caso de señales no periódicas el calculo tiene un pequeño cambia: </p>\n",
    "\n",
    "\n",
    "$$V_{RMS} = \\lim_{{t \\to \\infty}} \\sqrt{\\frac{1}{T} \\int_{0}^{T} x^2(t) \\, dt}$$\n",
    "\n"
   ]
  },
  {
   "cell_type": "markdown",
   "metadata": {},
   "source": [
    "<div style=\"text-align: left;\">\n",
    "  <span style=\"border: 2px solid white; padding: 5px; display: inline-block; background-color: green; font-family: 'American Typewriter', 'Courier New', Courier, 'Lucida Sans Typewriter', 'Lucida Typewriter', monospace; font-size: 20px; color: #FFFFFF; font-weight: bold;\">\n",
    "    III.\tDetalle del principio de funcionamiento del sensor utilizado.\n",
    "  </span>\n",
    "</div>"
   ]
  },
  {
   "cell_type": "markdown",
   "metadata": {},
   "source": [
    "<p style=\"text-align: justify; font-weight: italic; font-size:15px;\">\n",
    "Para medir el valor RMS vamos a utilizar el integrado AD736 de Analog Devices, que es un conversor de verdadero valor eficaz (RMS) a corriente continua (CC) monolítico, de baja potencia y alta precisión. El AD736 puede calcular el valor eficaz (RMS) de tensión de entrada tanto de alterna como de continua. También puede operar como un dispositivo acoplado en AC agregando un capacitor externo. En este modo, el AD736 puede resolver niveles de señal de entrada de 100μV RMS o menos, a pesar de las variaciones de temperatura o tensión de alimentación. También se mantiene una alta precisión para formas de onda de entrada con factores de cresta de 1 a 3. Además, se puede medir factores de cresta de hasta 5 (introduciendo solo un 2.5% de error adicional). Este integrado requiere solo 200uA de corriente de alimentación y está optimizado para su uso como multímetro y otras aplicaciones alimentadas por batería</p>\n",
    "<div style=\"max-width: 200%; text-align: center;\">\n",
    "  <img src=\"Imagen1.png\" alt=\"Texto alternativo\" style=\"max-width: 200%;\">\n",
    "</div>\n",
    "\n",
    "<p style=\"text-align: justify; font-weight: italic; font-size:15px;\">\n",
    "Como se muestra en la figura 1 el AD736 cuenta con cinco subsecciones funcionales: el amplificador de entrada, el rectificador de onda completa (FWR), el núcleo RMS, el amplificador de salida y la sección de polarización.</p>\n",
    "\n",
    "<p style=\"text-align: justify; font-weight: italic; font-size:15px;\">\n",
    "El amplificador de entrada FET es alta impedancia (de 10^12 Ω) con buffer, de baja corriente de polarización, adecuada para su uso con atenuadores de entrada de alta impedancia. La señal del amplificador de entrada ingresa a un rectificador de precisión de onda completa que, su salida pasa al núcleo RMS. Las operaciones fundamentales del cálculo del valor eficaz (RMS), como elevar al cuadrado, promediar y calcular la raíz cuadrada, se realiza en el núcleo RMS utilizando un capacitor de promedio externo, CAV. Sin este capacitor la señal de entrada rectificada atraviesa el núcleo sin procesarse. Como última subsección tenemos, un amplificador de salida, que almacena en un buffer la salida del núcleo y permite realizar la filtración opcional pasa bajos, mediante un capacitor externo CF, que se conecta en el camino de retroalimentación del amplificador. Esta etapa adicional de filtrado ayuda a reducir cualquier fluctuación en la salida que no se haya eliminado mediante el capacitor CAV.</h2>\n",
    "<h3> 3.1\tCómo funcionan los convertidores de RMS a DC.</h3>\n",
    "\n",
    "<p style=\"text-align: justify; font-weight: italic; font-size:15px;\">\n",
    "Los convertidores de RMS a DC resuelven una ecuación implícita para determinar el valor RMS de una tensión. A continuación, se mostrarán las transformaciones que conducen desde la definición de la tensión RMS hasta la ecuación implícita. Luego, se explicará la implementación de esta ecuación implícita en un convertidor de RMS a DC monolítico.</p>\n",
    "\n",
    "<p style=\"text-align: justify; font-weight: italic; font-size:15px;\">\n",
    "La definición del valor RMS de una tensión es la siguiente: </p>\n",
    "\n",
    "$$V_{RMS} = \\sqrt{\\frac{1}{T} \\int_{0}^{T} [v^2(t)] \\, dt}   (1)$$\n",
    "\n",
    "<p style=\"text-align: justify; font-weight: italic; font-size:15px;\">\n",
    "Donde V_RMS es el valor RMS, T es la duración de la medición y v(t) es la tensión instantánea, una función del tiempo, pero no necesariamente periódica. </p>\n",
    "\n",
    "<p style=\"text-align: justify; font-weight: italic; font-size:15px;\">\n",
    "Al elevar ambos lados de esta ecuación al cuadrado, se obtiene:</p>\n",
    "\n",
    "$$V_{RMS}^2 = \\frac{1}{T} \\int_{0}^{T} [v^2(t)] \\, dt   (2)$$\n",
    "\n",
    "<p style=\"text-align: justify; font-weight: italic; font-size:15px;\">\n",
    "La integral se puede aproximar como un promedio móvil:</p>\n",
    "\n",
    "$$Avg[v(t)]^2 = \\frac{1}{T} \\int_{0}^{T} [v^2(t)] \\, dt   (3)$$\n",
    "\n",
    "<p style=\"text-align: justify; font-weight: italic; font-size:15px;\">\n",
    "Luego, la Ecuación 2 se simplifica a:</p>\n",
    "\n",
    "$$V_{RMS}^2 = \\text{Avg}[v^2(t)]   (4)$$\n",
    "\n",
    "<p style=\"text-align: justify; font-weight: italic; font-size:15px;\">\n",
    "Dividiendo ambos lados por VRMS se obtiene:</p>\n",
    "\n",
    "$$V_{RMS} = \\frac{\\text{Avg}[v^2(t)]}{V_{RMS}}   (5)$$\n",
    "\n",
    "<p style=\"text-align: justify; font-weight: italic; font-size:15px;\">\n",
    "Esta expresión proporciona la base para la solución implícita de V_RMS y es la técnica utilizada en la línea de convertidores de RMS a DC monolíticos de Analog Devices.</p>\n",
    "\n",
    "<p style=\"text-align: justify; font-weight: italic; font-size:15px;\">\n",
    "Cabe destacar que al tomar la raíz cuadrada de ambos lados de la Ecuación 4 se obtiene:</p>\n",
    "\n",
    "$$V_{RMS} = \\sqrt{\\text{Avg}[v^2(t)]}$$\n",
    "\n",
    "<p style=\"text-align: justify; font-weight: italic; font-size:15px;\">\n",
    "Este es un método alternativo para expresar el valor RMS (raíz cuadrada de la media de los cuadrados) de la función.</p>\n",
    "\n",
    "<p style=\"text-align: justify; font-weight: italic; font-size:15px;\">\n",
    "El método implícito de cálculo de valores RMS es preferible al método explícito (elevar al cuadrado sucesivamente, promediar y tomar la raíz cuadrada de la señal de entrada) por razones prácticas que resultan en un rango dinámico superior. Utilizando el método explícito, la salida del cuadrador variará en un rango dinámico de 10,000:1 (de 1 mV a 10 V) para una entrada instantánea de 100:1 (de 0.1 V a 10 V). Dado que el cuadrador de entrada utilizado en el método explícito tendrá errores mayores de 1 mV, el error dependerá fuertemente del nivel de señal, lo que resulta en un rango dinámico general de menos de 100:1.</p>\n",
    "\n",
    "<p style=\"text-align: justify; font-weight: italic; font-size:15px;\">\n",
    "La Figura 2 muestra el método implícito de conversión de RMS a DC. El circuito es esencialmente una computadora analógica que resuelve la Ecuación 5. Los dispositivos de Analog Devices AD536A, AD636, AD637, AD736 y AD737 utilizan variaciones de este enfoque.</p>\n",
    "\n",
    "<div style=\"max-width: 100%; text-align: center;\">\n",
    "  <img src=\"Imagen2.png\" alt=\"Texto alternativo\" style=\"max-width: 100%;\">\n",
    "</div>\n",
    "\n",
    "<p style=\"text-align: justify; font-weight: italic; font-size:15px;\">\n",
    "La etapa de entrada es un búfer de ganancia unitaria, que no está comprometido en los dispositivos AD536A, AD636 y AD637 y está comprometido en los dispositivos AD736 y AD737. \"No comprometido\" en este contexto significa que tanto las entradas como la conexión de salida son accesibles; el usuario tiene la opción de utilizar este búfer como una entrada de alta impedancia para el convertidor, utilizarlo para construir un filtro activo que siga al filtro de promediado del convertidor RMS a DC o simplemente dejarlo desconectado.</p>\n",
    "\n",
    "<p style=\"text-align: justify; font-weight: italic; font-size:15px;\">\n",
    "Un circuito de valor absoluto (es decir, un rectificador de onda completa de precisión) sigue al búfer de entrada. La salida del circuito de valor absoluto impulsa un cuadrador/divisor. El cuadrador/divisor eleva al cuadrado la señal de entrada y la divide por la señal de salida, que es la salida promediada del circuito de cuadratura. Al cerrar el lazo alrededor del divisor, se resuelve continuamente la Ecuación 5.</p>\n",
    "\n",
    "<h3> 3.2\tEspecificaciones técnicas</h3>\n",
    "\n",
    "<ul>\n",
    "  <li style=\"text-align: justify; font-weight: italic; font-size:15px;\">Convierte una forma de onda de voltaje alterna (AC) en un voltaje directo (DC) y luego lo convierte en verdadero valor eficaz (RMS), valor rectificado promedio o valor absoluto.</li>\n",
    "  <li style=\"text-align: justify; font-weight: italic; font-size:15px;\">Rango de entrada de hasta 200 mV RMS a escala completa (con opciones para entradas más grandes mediante un atenuador de entrada).</li>\n",
    "  <li style=\"text-align: justify; font-weight: italic; font-size:15px;\">Alta impedancia de entrada de 10^12 ohmios, lo que significa que no carga la fuente de señal.</li>\n",
    "  <li style=\"text-align: justify; font-weight: italic; font-size:15px;\">Corriente de polarización de entrada baja, con un máximo de 25μA.</li>\n",
    "  <li style=\"text-align: justify; font-weight: italic; font-size:15px;\">Alta precisión con un error de ±0.3 mV ± 0.3% de la lectura, especialmente con señales sinusoidales.</li>\n",
    "  <li style=\"text-align: justify; font-weight: italic; font-size:15px;\">Capacidad de conversión RMS con factores de cresta de señal de hasta 5.</li>\n",
    "  <li style=\"text-align: justify; font-weight: italic; font-size:15px;\">Amplio rango de fuente de alimentación de +2.8 V a -3.2 V a ±16.5 V.</li>\n",
    "  <li style=\"text-align: justify; font-weight: italic; font-size:15px;\">Consumo de energía bajo, con una corriente máxima de suministro de 200 µA.</li>\n",
    "  <li style=\"text-align: justify; font-weight: italic; font-size:15px;\">Ofrece una salida de voltaje en búfer, lo que proporciona flexibilidad de diseño.</li>\n",
    "  <li style=\"text-align: justify; font-weight: italic; font-size:15px;\">No requiere ajustes externos para lograr la precisión especificada.</li>\n",
    "</ul>\n",
    "\n",
    "<h3> 3.3\tAmpliación de los Rangos de Entrada a Escala Completa del AD736 y AD737</h3>\n",
    "\n",
    "<p style=\"text-align: justify; font-weight: italic; font-size:15px;\">\n",
    "La entrada de alta impedancia (Pin 2) del AD736 y AD737 permite el uso de atenuadores resistivos simples (Figura 2) para ampliar su rango de entrada. Sin atenuación de entrada, tanto el AD736 como el AD737 pueden medir con precisión señales de entrada de hasta 200 mV rms con factores de cresta de 1 a 3.</p>\n",
    "\n",
    "<p style=\"text-align: justify; font-weight: italic; font-size:15px;\">\n",
    "El atenuador externo simplemente reduce la entrada a escala completa al rango de entrada de 200 mV rms del AD736 o AD737. Por ejemplo, para una entrada máxima de 7 V rms (10 V pico), el atenuador debería ser un divisor de voltaje de 35:1 (7/0.2). La lectura del convertidor debe escalarse por el factor de atenuación utilizado. </p>\n",
    "\n",
    "<div style=\"max-width: 100%; text-align: center;\">\n",
    "  <img src=\"Imagen3.png\" alt=\"Texto alternativo\" style=\"max-width: 100%;\">\n",
    "</div>\n"
   ]
  },
  {
   "cell_type": "markdown",
   "metadata": {},
   "source": [
    "<div style=\"text-align: left;\">\n",
    "  <span style=\"border: 2px solid white; padding: 5px; display: inline-block; background-color: green; font-family: 'American Typewriter', 'Courier New', Courier, 'Lucida Sans Typewriter', 'Lucida Typewriter', monospace; font-size: 18px; color: #FFFFFF; font-weight: bold;\">\n",
    "    IV.\tDescripción del principio de funcionamiento de los sensores descartados.\n",
    "  </span>\n",
    "</div>"
   ]
  },
  {
   "cell_type": "code",
   "execution_count": null,
   "metadata": {},
   "outputs": [],
   "source": []
  },
  {
   "cell_type": "markdown",
   "metadata": {},
   "source": [
    "<div style=\"text-align: left;\">\n",
    "  <span style=\"border: 2px solid white; padding: 5px; display: inline-block; background-color: green; font-family: 'American Typewriter', 'Courier New', Courier, 'Lucida Sans Typewriter', 'Lucida Typewriter', monospace; font-size: 20px; color: #FFFFFF; font-weight: bold;\">\n",
    "    V.\tDiagrama en bloques del sistema.\n",
    "  </span>\n",
    "</div>"
   ]
  },
  {
   "cell_type": "markdown",
   "metadata": {},
   "source": [
    "<div style=\"max-width: 100%; text-align: center;\">\n",
    "  <img src=\"DiagramaEnBloque.jpg\" alt=\"Texto alternativo\" style=\"max-width: 100%;\">\n",
    "</div>"
   ]
  },
  {
   "cell_type": "markdown",
   "metadata": {},
   "source": [
    "<div style=\"text-align: left;\">\n",
    "  <span style=\"border: 2px solid white; padding: 5px; display: inline-block; background-color: green; font-family: 'American Typewriter', 'Courier New', Courier, 'Lucida Sans Typewriter', 'Lucida Typewriter', monospace; font-size: 20px; color: #FFFFFF; font-weight: bold;\">\n",
    "    VI.\tDiagrama del flujo del algoritmo utilizado.\n",
    "  </span>\n",
    "</div>"
   ]
  },
  {
   "cell_type": "markdown",
   "metadata": {},
   "source": [
    "<div style=\"max-width: 100%; text-align: Left;\">\n",
    "  <img src=\"Imagen4.jpg\" alt=\"Texto alternativo\" style=\"max-width: 100%;\">\n",
    "</div>"
   ]
  },
  {
   "cell_type": "markdown",
   "metadata": {},
   "source": [
    "<div style=\"text-align: left;\">\n",
    "  <span style=\"border: 2px solid white; padding: 5px; display: inline-block; background-color: green; font-family: 'American Typewriter', 'Courier New', Courier, 'Lucida Sans Typewriter', 'Lucida Typewriter', monospace; font-size: 20px; color: #FFFFFF; font-weight: bold;\">\n",
    "    VII.\tCálculo de las incertidumbres del equipo.\n",
    "  </span>\n",
    "</div>"
   ]
  },
  {
   "cell_type": "markdown",
   "metadata": {},
   "source": [
    "**Impedancia de entrada**\n",
    "- $R_3$ = 5.7MΩ ± 5% 0.25W\n",
    "- $R_4$ = 3.3MΩ ± 5% 0.25W\n",
    "- $R_5$ = 750kΩ ± 5% 0.25W\n",
    "- $R_6$ = 51kΩ ± 5% 0.25W\n",
    "- $R_7$ = 150kΩ ± 5% 0.25W\n",
    "- $R_8$ = 51kΩ ± 5% 0.25W\n",
    "- $R_x$ = 47kΩ ± 5% 1W\n",
    "\n",
    "**AD736J**\n",
    "- Tensión de alimentación: ± 5V\n",
    "- Impedancia de entrada: $10^{12} Ω$\n",
    "- Factor de conversión: $S = 1[\\frac{V}{Vrms}]$\n",
    "- VRMSmáx = 200mVrms\n",
    "- Error: 0.3mV ± 0.3%\n",
    "\n",
    "**MCP602**\n",
    "- Rail-to-rail Input/Output\n",
    "- Tensión de alimentación: 1.8V a 5.5V\n",
    "- Ancho de banda: 1MHz\n",
    "- Voutmáx: 4.975V\n",
    "- Voutmín: 25mV\n",
    "\n",
    "**Circuito No Inversor:**\n",
    "- $R_1$ = 33kΩ ± 5% 0.25W\n",
    "- $R_2$ = 750kΩ ± 5% 0.25W\n",
    "- $A_v$ = (1 + $\\frac{R_2}{R_1}$)\n",
    "\n",
    "**CAD**\n",
    "- Resolución: 10 bits\n",
    "- Precisión: ±2 LSB\n",
    "- Tiempo de conversión: 65 a 260 µs\n",
    "- VREF = 5V ± 1%\n",
    "\n",
    "**Esc. 200mV**\n",
    "\n",
    "$A_t = 1$\n",
    "\n",
    "**Esc. 2V**\n",
    "\n",
    "$ A_t = \\frac{(R_3 + R_4) + (R_5 + R_6 + R_7 + R_8)}{R_5 + R_6 + R_7 + R_8} $\n",
    "\n",
    "$ A_t = \\frac{R_{34} + R_{58}}{R_{58}} $\n",
    "\n",
    "**Esc. 10V**\n",
    "\n",
    "$ A_t = \\frac{R_3 + R_4 + R_5 + R_6 + R_7 + R_8}{R_7 + R_8} $\n",
    "\n",
    "\n"
   ]
  },
  {
   "cell_type": "markdown",
   "metadata": {},
   "source": [
    "<h3 style=\"text-align: center;\"> Ecucaciones </h3>"
   ]
  },
  {
   "cell_type": "markdown",
   "metadata": {},
   "source": [
    "$$V_{out} = V_{dc} \\cdot A_v$$\n",
    "$$V_{dc} = S \\cdot V_{rms}$$\n",
    "$$V_{rms} = V_{in} \\cdot A_t$$\n",
    "$$V_{out} = \\frac{V_{in} \\cdot A_v}{A_t}$$"
   ]
  },
  {
   "cell_type": "markdown",
   "metadata": {},
   "source": [
    "Realizamos el cálculo de insertidumbre de la cuenta indicada por el ADC a partir de la siguiente expresión:\n",
    "$$C_I = \\frac{V_{out} \\cdot 2^N}{V_{ref}} \\quad(1)$$\n",
    "\n",
    "Su insertidumbre relaitiva será:\n",
    "\n",
    "$$u_r(C_{I}) = \\sqrt{u_r^2(V_{out}) + u_r^2(CAD) + u_r^2(V_{ref}) }$$\n"
   ]
  },
  {
   "cell_type": "code",
   "execution_count": 68,
   "metadata": {},
   "outputs": [
    {
     "data": {
      "text/latex": [
       "$\\displaystyle u_r(V_{out}) = 0.0025000000000000356$"
      ],
      "text/plain": [
       "<IPython.core.display.Math object>"
      ]
     },
     "metadata": {},
     "output_type": "display_data"
    },
    {
     "data": {
      "text/latex": [
       "$\\displaystyle u_r(CAD) = 0.001127637244510988$"
      ],
      "text/plain": [
       "<IPython.core.display.Math object>"
      ]
     },
     "metadata": {},
     "output_type": "display_data"
    },
    {
     "data": {
      "text/latex": [
       "$\\displaystyle u_r(V_{ref}) = 0.005$"
      ],
      "text/plain": [
       "<IPython.core.display.Math object>"
      ]
     },
     "metadata": {},
     "output_type": "display_data"
    },
    {
     "data": {
      "text/latex": [
       "$\\displaystyle u_r(C_I) = 0.005702768253682462$"
      ],
      "text/plain": [
       "<IPython.core.display.Math object>"
      ]
     },
     "metadata": {},
     "output_type": "display_data"
    }
   ],
   "source": [
    "import numpy as np\n",
    "from IPython.display import display, Math\n",
    "#Incertidumbre de Vout\n",
    "Vout = 5\n",
    "Voutmax = 4.975\n",
    "Voutmin = 0.025\n",
    "ΔVout = (Vout-Voutmax)/Vout\n",
    "ur_Vout = ΔVout/2\n",
    "\n",
    "#Incertidumbre de CAD\n",
    "N = 10\n",
    "LSB = 2\n",
    "ΔCAD = LSB/(2**N)\n",
    "ur_CAD = ΔCAD/np.sqrt(3)\n",
    "\n",
    "#Incertidumbre de Vref\n",
    "Vref = 5\n",
    "ΔVref = 0.01\n",
    "ur_Vref = ΔVref/2\n",
    "\n",
    "#Incertidumbre de Cuenta Indicada:\n",
    "ur_Ci = np.sqrt(ur_Vout**2 + ur_CAD**2 + ur_Vref**2)\n",
    "\n",
    "#Mostramos los resultados\n",
    "display(Math(f\"u_r(V_{{out}}) = {ur_Vout}\"))\n",
    "display(Math(f\"u_r(CAD) = {ur_CAD}\"))\n",
    "display(Math(f\"u_r(V_{{ref}}) = {ur_Vref}\"))\n",
    "display(Math(f\"u_r(C_I) = {ur_Ci}\"))"
   ]
  },
  {
   "cell_type": "markdown",
   "metadata": {},
   "source": [
    "Despejando la ecuación 1 en función de la tensión a la entrada del ADC:\n",
    "   $$ V_{\\text{out}} = \\frac{C_I \\cdot V_{\\text{ref}}}{2^N}\n",
    "   \\quad (2) $$\n",
    "\n",
    "Calculamos la tensión previa a la amplificación:\n",
    "   $$V_{dc} = \\frac{V_{\\text{out}}}{A_v} \\rightarrow V_{dc} = \\frac{C_I \\cdot V_{\\text{ref}}}{2^N \\cdot A_v}$$\n",
    "\n",
    "   Donde:\n",
    "   $$A_v = \\left(1 + \\frac{R_2}{R_3}\\right) $$\n",
    "\n",
    "   Y su incertidumbre relativa:\n",
    "   $$u_r(A_v) = \\frac{R_2}{R_1} \\cdot \\frac{\\sqrt{u_r^2(R_1) + u_r^2(R_2)}}{A_v}$$"
   ]
  },
  {
   "cell_type": "code",
   "execution_count": 69,
   "metadata": {},
   "outputs": [
    {
     "data": {
      "text/latex": [
       "$\\displaystyle u_r(R_1) = 0.025$"
      ],
      "text/plain": [
       "<IPython.core.display.Math object>"
      ]
     },
     "metadata": {},
     "output_type": "display_data"
    },
    {
     "data": {
      "text/latex": [
       "$\\displaystyle u_r(R_2) = 0.025$"
      ],
      "text/plain": [
       "<IPython.core.display.Math object>"
      ]
     },
     "metadata": {},
     "output_type": "display_data"
    },
    {
     "data": {
      "text/latex": [
       "$\\displaystyle u_r(A_v) = 19.065585732405882$"
      ],
      "text/plain": [
       "<IPython.core.display.Math object>"
      ]
     },
     "metadata": {},
     "output_type": "display_data"
    }
   ],
   "source": [
    "#Incertidumbre de R1 y R2\n",
    "R1  = 33000\n",
    "R2  = 750000\n",
    "ΔR1 = 0.05\n",
    "ΔR2 = 0.05\n",
    "ur_R1 = ΔR1/2\n",
    "ur_R2 = ΔR2/2\n",
    "\n",
    "#Incertidumbre de Av\n",
    "Av = (1 + R2/R1)\n",
    "ur_Av = (R2/R1)*np.sqrt(ur_R1**2 + ur_R2**2)*Av\n",
    "display(Math(f\"u_r(R_1) = {ur_R1}\"))\n",
    "display(Math(f\"u_r(R_2) = {ur_R2}\"))\n",
    "display(Math(f\"u_r(A_v) = {ur_Av}\"))"
   ]
  },
  {
   "cell_type": "code",
   "execution_count": 45,
   "metadata": {},
   "outputs": [
    {
     "data": {
      "text/latex": [
       "$\\displaystyle u_r(V_in) = \\sqrt{{u_r^2(C_I) + u_r^2(V_{ref}) + u_r^2(CAD) + u_r^2(Av) + u_r^2(S_ADC736) + u_r^2(At)}}$"
      ],
      "text/plain": [
       "<IPython.core.display.Math object>"
      ]
     },
     "metadata": {},
     "output_type": "display_data"
    }
   ],
   "source": [
    "from IPython.display import display, Math\n",
    "\n",
    "# Definición de las variables\n",
    "u_r_C_I = 0.1\n",
    "u_r_V_ref = 0.2\n",
    "u_r_CAD = 0.05\n",
    "u_r_Av = 0.15\n",
    "u_r_S_ADC736 = 0.1\n",
    "u_r_At = 0.08\n",
    "\n",
    "# Crear el código LaTeX\n",
    "latex_code = \"u_r(V_in) = \\\\sqrt{{u_r^2(C_I) + u_r^2(V_{ref}) + u_r^2(CAD) + u_r^2(Av) + u_r^2(S_ADC736) + u_r^2(At)}}\"\n",
    "\n",
    "# Mostrar la ecuación en formato LaTeX\n",
    "display(Math(latex_code))\n"
   ]
  },
  {
   "cell_type": "code",
   "execution_count": 19,
   "metadata": {},
   "outputs": [],
   "source": [
    "import numpy as np\n",
    "\n",
    "K = 1\n",
    "Vin = 0.2\n",
    "At_200mv = 1\n",
    "Vrms = Vin * At_200mv\n",
    "\n",
    "R1 = 33.0       #   kΩ ± 5% 0.25W\n",
    "ur_R1 = 0.05/2\n",
    "R2 = 750.0      #   kΩ ± 5% 0.25W\n",
    "ur_R2 = 0.05/2\n",
    "R3 = 5700.0     #   kΩ ± 5% 0.25W\n",
    "ur_R3 = 0.05/2\n",
    "R4 = 3300.0     #   kΩ ± 5% 0.25W\n",
    "ur_R4 = 0.05/2\n",
    "R5 = 750.0      #   kΩ ± 5% 0.25W\n",
    "ur_R5 = 0.05/2\n",
    "R6 = 51.0       #   kΩ ± 5% 0.25W\n",
    "ur_R6 = 0.05/2\n",
    "R7 = 150.0      #   kΩ ± 5% 0.25W\n",
    "ur_R7 = 0.05/2\n",
    "R8 = 51.0       #   kΩ ± 5% 0.25W\n",
    "ur_R8 = 0.05/2\n",
    "Rx = 47.0       #   kΩ ± 5% 1W\n",
    "ur_Rx = 0.05/2"
   ]
  },
  {
   "cell_type": "code",
   "execution_count": 24,
   "metadata": {},
   "outputs": [
    {
     "name": "stdout",
     "output_type": "stream",
     "text": [
      "9000.0\n",
      "0.07071067811865477\n",
      "1002.0\n",
      "0.10000000000000002\n"
     ]
    }
   ],
   "source": [
    "R34 = R3 + R4;\n",
    "ur_R34 = np.sqrt(0.05**2 + 0.05**2)\n",
    "u_R34 = R34*ur_R34\n",
    "R56 = R5 + R6\n",
    "ur_R56 = np.sqrt(0.05**2 + 0.05**2)\n",
    "R78 = R7 + R8\n",
    "ur_R78 = np.sqrt(0.05**2 + 0.05**2)\n",
    "R58 = R5 + R6 + R7 + R8\n",
    "ur_R58 = np.sqrt(ur_R56**2 + ur_R78**2)\n",
    "At2V = (R58 + R34)/R58\n",
    "ur_At2V = (R58/R34)*np.sqrt(ur_R34**2 + ur_R34**2)/At2V\n",
    "print(R34)\n",
    "print(ur_R34)\n",
    "print(R58)\n",
    "print(ur_R58)\n",
    "\n"
   ]
  },
  {
   "cell_type": "markdown",
   "metadata": {},
   "source": [
    "\n",
    "\n"
   ]
  },
  {
   "cell_type": "markdown",
   "metadata": {},
   "source": [
    "{2^N \\cdot A_v \\cdot S_{AD746}} \\cdot A_t $\n",
    "\n",
    "$\\Delta V_{in} = \\frac{V_{ref}}{2^N \\cdot A_v \\cdot S_{AD746}} \\cdot A_t $\n",
    "\n",
    "$\\Delta V_{in_{máx}} = \\frac{V_{ref_{máx}}}{2^N \\cdot A_{v_{mín}} \\cdot S_{mín}} \\cdot A_{t_{máx}}$\n",
    "\n",
    "$\\Delta V_{in_{máx}} = \\frac{V_{ref_{máx}}}{2^N \\cdot (1 + \\frac{R_{2_{mín}}}{R_{1_{máx}}}) \\cdot S_{mín}} \\cdot \\frac{R_{58_{máx}}}{R_{58_{mín}} + R_{34_{mín}}}$\n",
    "\n",
    "$u_r(V_{in}) = \\sqrt{u_r^2(C_I) + u_r^2(V_{ref}) + u_r^2(CAD) + u_r^2(Av) + u_r^2(S_{ADC736}) + u_r^2(A_t)}$"
   ]
  },
  {
   "cell_type": "code",
   "execution_count": 13,
   "metadata": {},
   "outputs": [
    {
     "name": "stdout",
     "output_type": "stream",
     "text": [
      "0.06773053459641261 23.727272727272727\n",
      "0.033939929716765196\n",
      "0.06864955629672109\n"
     ]
    }
   ],
   "source": [
    "# Incertidumbre AD736\n",
    "ur_AD736 = 0.3/200 + 0.003\n",
    "\n",
    "# Incertidumbre MCP6002\n",
    "Vout_max = 4.975\n",
    "Vout_min = 0.025\n",
    "\n",
    "Av = (1 + R2/R1)\n",
    "u_R1 = ur_R1 * R1\n",
    "u_R2 = ur_R2 * R2\n",
    "u_Av = np.sqrt((u_R2/R1)**2 + (R2*u_R1/(R1**2))**2)\n",
    "ur_Av = u_Av/Av\n",
    "print(ur_Av, Av)\n",
    "\n",
    "# Incertidumbre Vout\n",
    "Vout = Vin * Av/At_200mv\n",
    "ur_Vout = np.sqrt(ur_AD736**2 + ur_Av**2)/2\n",
    "print(ur_Vout)\n",
    "\n",
    "# Incertidumbre CAD\n",
    "N = 10          # Resolución 10 bits\n",
    "u_CAD = 2       # Precisión: ±2 LSB\n",
    "ur_CAD = (2/2**N)/np.sqrt(3)\n",
    "Vref = 5        # VREF = 5V ± 1%\n",
    "ur_Vref = 0.01/2\n",
    "Ctas = 2**N * Vout/Vref\n",
    "ur_Ctas = np.sqrt(ur_Vout**2 + ur_Vref**2 + ur_CAD**2 )\n",
    "UR_Ctas = 2*ur_Ctas\n",
    "print(UR_Ctas)\n"
   ]
  },
  {
   "cell_type": "code",
   "execution_count": 17,
   "metadata": {},
   "outputs": [
    {
     "name": "stdout",
     "output_type": "stream",
     "text": [
      "Columnas en los datos:\n",
      "Index(['Vi', 'Vv', 'Frecuencia', 'Medicion', 'Tension', 'Unnamed: 5',\n",
      "       'Generador', 'Equipo'],\n",
      "      dtype='object')\n"
     ]
    },
    {
     "ename": "ValueError",
     "evalue": "Input X contains NaN.\nLinearRegression does not accept missing values encoded as NaN natively. For supervised learning, you might want to consider sklearn.ensemble.HistGradientBoostingClassifier and Regressor which accept missing values encoded as NaNs natively. Alternatively, it is possible to preprocess the data, for instance by using an imputer transformer in a pipeline or drop samples with missing values. See https://scikit-learn.org/stable/modules/impute.html You can find a list of all estimators that handle NaN values at the following page: https://scikit-learn.org/stable/modules/impute.html#estimators-that-handle-nan-values",
     "output_type": "error",
     "traceback": [
      "\u001b[1;31m---------------------------------------------------------------------------\u001b[0m",
      "\u001b[1;31mValueError\u001b[0m                                Traceback (most recent call last)",
      "\u001b[1;32mc:\\Users\\david\\Desktop\\TPO-MEI-2023\\TPO-ME1.ipynb Cell 22\u001b[0m line \u001b[0;36m2\n\u001b[0;32m     <a href='vscode-notebook-cell:/c%3A/Users/david/Desktop/TPO-MEI-2023/TPO-ME1.ipynb#X30sZmlsZQ%3D%3D?line=18'>19</a>\u001b[0m modelo \u001b[39m=\u001b[39m LinearRegression()\n\u001b[0;32m     <a href='vscode-notebook-cell:/c%3A/Users/david/Desktop/TPO-MEI-2023/TPO-ME1.ipynb#X30sZmlsZQ%3D%3D?line=20'>21</a>\u001b[0m \u001b[39m# Ajusta el modelo con tus datos\u001b[39;00m\n\u001b[1;32m---> <a href='vscode-notebook-cell:/c%3A/Users/david/Desktop/TPO-MEI-2023/TPO-ME1.ipynb#X30sZmlsZQ%3D%3D?line=21'>22</a>\u001b[0m modelo\u001b[39m.\u001b[39;49mfit(Vi, Vv)\n\u001b[0;32m     <a href='vscode-notebook-cell:/c%3A/Users/david/Desktop/TPO-MEI-2023/TPO-ME1.ipynb#X30sZmlsZQ%3D%3D?line=23'>24</a>\u001b[0m \u001b[39m# Obtiene los coeficientes 'a' y 'b'\u001b[39;00m\n\u001b[0;32m     <a href='vscode-notebook-cell:/c%3A/Users/david/Desktop/TPO-MEI-2023/TPO-ME1.ipynb#X30sZmlsZQ%3D%3D?line=24'>25</a>\u001b[0m a \u001b[39m=\u001b[39m modelo\u001b[39m.\u001b[39mcoef_[\u001b[39m0\u001b[39m]\n",
      "File \u001b[1;32m~\\AppData\\Local\\Packages\\PythonSoftwareFoundation.Python.3.10_qbz5n2kfra8p0\\LocalCache\\local-packages\\Python310\\site-packages\\sklearn\\base.py:1152\u001b[0m, in \u001b[0;36m_fit_context.<locals>.decorator.<locals>.wrapper\u001b[1;34m(estimator, *args, **kwargs)\u001b[0m\n\u001b[0;32m   1145\u001b[0m     estimator\u001b[39m.\u001b[39m_validate_params()\n\u001b[0;32m   1147\u001b[0m \u001b[39mwith\u001b[39;00m config_context(\n\u001b[0;32m   1148\u001b[0m     skip_parameter_validation\u001b[39m=\u001b[39m(\n\u001b[0;32m   1149\u001b[0m         prefer_skip_nested_validation \u001b[39mor\u001b[39;00m global_skip_validation\n\u001b[0;32m   1150\u001b[0m     )\n\u001b[0;32m   1151\u001b[0m ):\n\u001b[1;32m-> 1152\u001b[0m     \u001b[39mreturn\u001b[39;00m fit_method(estimator, \u001b[39m*\u001b[39margs, \u001b[39m*\u001b[39m\u001b[39m*\u001b[39mkwargs)\n",
      "File \u001b[1;32m~\\AppData\\Local\\Packages\\PythonSoftwareFoundation.Python.3.10_qbz5n2kfra8p0\\LocalCache\\local-packages\\Python310\\site-packages\\sklearn\\linear_model\\_base.py:678\u001b[0m, in \u001b[0;36mLinearRegression.fit\u001b[1;34m(self, X, y, sample_weight)\u001b[0m\n\u001b[0;32m    674\u001b[0m n_jobs_ \u001b[39m=\u001b[39m \u001b[39mself\u001b[39m\u001b[39m.\u001b[39mn_jobs\n\u001b[0;32m    676\u001b[0m accept_sparse \u001b[39m=\u001b[39m \u001b[39mFalse\u001b[39;00m \u001b[39mif\u001b[39;00m \u001b[39mself\u001b[39m\u001b[39m.\u001b[39mpositive \u001b[39melse\u001b[39;00m [\u001b[39m\"\u001b[39m\u001b[39mcsr\u001b[39m\u001b[39m\"\u001b[39m, \u001b[39m\"\u001b[39m\u001b[39mcsc\u001b[39m\u001b[39m\"\u001b[39m, \u001b[39m\"\u001b[39m\u001b[39mcoo\u001b[39m\u001b[39m\"\u001b[39m]\n\u001b[1;32m--> 678\u001b[0m X, y \u001b[39m=\u001b[39m \u001b[39mself\u001b[39;49m\u001b[39m.\u001b[39;49m_validate_data(\n\u001b[0;32m    679\u001b[0m     X, y, accept_sparse\u001b[39m=\u001b[39;49maccept_sparse, y_numeric\u001b[39m=\u001b[39;49m\u001b[39mTrue\u001b[39;49;00m, multi_output\u001b[39m=\u001b[39;49m\u001b[39mTrue\u001b[39;49;00m\n\u001b[0;32m    680\u001b[0m )\n\u001b[0;32m    682\u001b[0m has_sw \u001b[39m=\u001b[39m sample_weight \u001b[39mis\u001b[39;00m \u001b[39mnot\u001b[39;00m \u001b[39mNone\u001b[39;00m\n\u001b[0;32m    683\u001b[0m \u001b[39mif\u001b[39;00m has_sw:\n",
      "File \u001b[1;32m~\\AppData\\Local\\Packages\\PythonSoftwareFoundation.Python.3.10_qbz5n2kfra8p0\\LocalCache\\local-packages\\Python310\\site-packages\\sklearn\\base.py:622\u001b[0m, in \u001b[0;36mBaseEstimator._validate_data\u001b[1;34m(self, X, y, reset, validate_separately, cast_to_ndarray, **check_params)\u001b[0m\n\u001b[0;32m    620\u001b[0m         y \u001b[39m=\u001b[39m check_array(y, input_name\u001b[39m=\u001b[39m\u001b[39m\"\u001b[39m\u001b[39my\u001b[39m\u001b[39m\"\u001b[39m, \u001b[39m*\u001b[39m\u001b[39m*\u001b[39mcheck_y_params)\n\u001b[0;32m    621\u001b[0m     \u001b[39melse\u001b[39;00m:\n\u001b[1;32m--> 622\u001b[0m         X, y \u001b[39m=\u001b[39m check_X_y(X, y, \u001b[39m*\u001b[39m\u001b[39m*\u001b[39mcheck_params)\n\u001b[0;32m    623\u001b[0m     out \u001b[39m=\u001b[39m X, y\n\u001b[0;32m    625\u001b[0m \u001b[39mif\u001b[39;00m \u001b[39mnot\u001b[39;00m no_val_X \u001b[39mand\u001b[39;00m check_params\u001b[39m.\u001b[39mget(\u001b[39m\"\u001b[39m\u001b[39mensure_2d\u001b[39m\u001b[39m\"\u001b[39m, \u001b[39mTrue\u001b[39;00m):\n",
      "File \u001b[1;32m~\\AppData\\Local\\Packages\\PythonSoftwareFoundation.Python.3.10_qbz5n2kfra8p0\\LocalCache\\local-packages\\Python310\\site-packages\\sklearn\\utils\\validation.py:1146\u001b[0m, in \u001b[0;36mcheck_X_y\u001b[1;34m(X, y, accept_sparse, accept_large_sparse, dtype, order, copy, force_all_finite, ensure_2d, allow_nd, multi_output, ensure_min_samples, ensure_min_features, y_numeric, estimator)\u001b[0m\n\u001b[0;32m   1141\u001b[0m         estimator_name \u001b[39m=\u001b[39m _check_estimator_name(estimator)\n\u001b[0;32m   1142\u001b[0m     \u001b[39mraise\u001b[39;00m \u001b[39mValueError\u001b[39;00m(\n\u001b[0;32m   1143\u001b[0m         \u001b[39mf\u001b[39m\u001b[39m\"\u001b[39m\u001b[39m{\u001b[39;00mestimator_name\u001b[39m}\u001b[39;00m\u001b[39m requires y to be passed, but the target y is None\u001b[39m\u001b[39m\"\u001b[39m\n\u001b[0;32m   1144\u001b[0m     )\n\u001b[1;32m-> 1146\u001b[0m X \u001b[39m=\u001b[39m check_array(\n\u001b[0;32m   1147\u001b[0m     X,\n\u001b[0;32m   1148\u001b[0m     accept_sparse\u001b[39m=\u001b[39;49maccept_sparse,\n\u001b[0;32m   1149\u001b[0m     accept_large_sparse\u001b[39m=\u001b[39;49maccept_large_sparse,\n\u001b[0;32m   1150\u001b[0m     dtype\u001b[39m=\u001b[39;49mdtype,\n\u001b[0;32m   1151\u001b[0m     order\u001b[39m=\u001b[39;49morder,\n\u001b[0;32m   1152\u001b[0m     copy\u001b[39m=\u001b[39;49mcopy,\n\u001b[0;32m   1153\u001b[0m     force_all_finite\u001b[39m=\u001b[39;49mforce_all_finite,\n\u001b[0;32m   1154\u001b[0m     ensure_2d\u001b[39m=\u001b[39;49mensure_2d,\n\u001b[0;32m   1155\u001b[0m     allow_nd\u001b[39m=\u001b[39;49mallow_nd,\n\u001b[0;32m   1156\u001b[0m     ensure_min_samples\u001b[39m=\u001b[39;49mensure_min_samples,\n\u001b[0;32m   1157\u001b[0m     ensure_min_features\u001b[39m=\u001b[39;49mensure_min_features,\n\u001b[0;32m   1158\u001b[0m     estimator\u001b[39m=\u001b[39;49mestimator,\n\u001b[0;32m   1159\u001b[0m     input_name\u001b[39m=\u001b[39;49m\u001b[39m\"\u001b[39;49m\u001b[39mX\u001b[39;49m\u001b[39m\"\u001b[39;49m,\n\u001b[0;32m   1160\u001b[0m )\n\u001b[0;32m   1162\u001b[0m y \u001b[39m=\u001b[39m _check_y(y, multi_output\u001b[39m=\u001b[39mmulti_output, y_numeric\u001b[39m=\u001b[39my_numeric, estimator\u001b[39m=\u001b[39mestimator)\n\u001b[0;32m   1164\u001b[0m check_consistent_length(X, y)\n",
      "File \u001b[1;32m~\\AppData\\Local\\Packages\\PythonSoftwareFoundation.Python.3.10_qbz5n2kfra8p0\\LocalCache\\local-packages\\Python310\\site-packages\\sklearn\\utils\\validation.py:957\u001b[0m, in \u001b[0;36mcheck_array\u001b[1;34m(array, accept_sparse, accept_large_sparse, dtype, order, copy, force_all_finite, ensure_2d, allow_nd, ensure_min_samples, ensure_min_features, estimator, input_name)\u001b[0m\n\u001b[0;32m    951\u001b[0m         \u001b[39mraise\u001b[39;00m \u001b[39mValueError\u001b[39;00m(\n\u001b[0;32m    952\u001b[0m             \u001b[39m\"\u001b[39m\u001b[39mFound array with dim \u001b[39m\u001b[39m%d\u001b[39;00m\u001b[39m. \u001b[39m\u001b[39m%s\u001b[39;00m\u001b[39m expected <= 2.\u001b[39m\u001b[39m\"\u001b[39m\n\u001b[0;32m    953\u001b[0m             \u001b[39m%\u001b[39m (array\u001b[39m.\u001b[39mndim, estimator_name)\n\u001b[0;32m    954\u001b[0m         )\n\u001b[0;32m    956\u001b[0m     \u001b[39mif\u001b[39;00m force_all_finite:\n\u001b[1;32m--> 957\u001b[0m         _assert_all_finite(\n\u001b[0;32m    958\u001b[0m             array,\n\u001b[0;32m    959\u001b[0m             input_name\u001b[39m=\u001b[39;49minput_name,\n\u001b[0;32m    960\u001b[0m             estimator_name\u001b[39m=\u001b[39;49mestimator_name,\n\u001b[0;32m    961\u001b[0m             allow_nan\u001b[39m=\u001b[39;49mforce_all_finite \u001b[39m==\u001b[39;49m \u001b[39m\"\u001b[39;49m\u001b[39mallow-nan\u001b[39;49m\u001b[39m\"\u001b[39;49m,\n\u001b[0;32m    962\u001b[0m         )\n\u001b[0;32m    964\u001b[0m \u001b[39mif\u001b[39;00m ensure_min_samples \u001b[39m>\u001b[39m \u001b[39m0\u001b[39m:\n\u001b[0;32m    965\u001b[0m     n_samples \u001b[39m=\u001b[39m _num_samples(array)\n",
      "File \u001b[1;32m~\\AppData\\Local\\Packages\\PythonSoftwareFoundation.Python.3.10_qbz5n2kfra8p0\\LocalCache\\local-packages\\Python310\\site-packages\\sklearn\\utils\\validation.py:122\u001b[0m, in \u001b[0;36m_assert_all_finite\u001b[1;34m(X, allow_nan, msg_dtype, estimator_name, input_name)\u001b[0m\n\u001b[0;32m    119\u001b[0m \u001b[39mif\u001b[39;00m first_pass_isfinite:\n\u001b[0;32m    120\u001b[0m     \u001b[39mreturn\u001b[39;00m\n\u001b[1;32m--> 122\u001b[0m _assert_all_finite_element_wise(\n\u001b[0;32m    123\u001b[0m     X,\n\u001b[0;32m    124\u001b[0m     xp\u001b[39m=\u001b[39;49mxp,\n\u001b[0;32m    125\u001b[0m     allow_nan\u001b[39m=\u001b[39;49mallow_nan,\n\u001b[0;32m    126\u001b[0m     msg_dtype\u001b[39m=\u001b[39;49mmsg_dtype,\n\u001b[0;32m    127\u001b[0m     estimator_name\u001b[39m=\u001b[39;49mestimator_name,\n\u001b[0;32m    128\u001b[0m     input_name\u001b[39m=\u001b[39;49minput_name,\n\u001b[0;32m    129\u001b[0m )\n",
      "File \u001b[1;32m~\\AppData\\Local\\Packages\\PythonSoftwareFoundation.Python.3.10_qbz5n2kfra8p0\\LocalCache\\local-packages\\Python310\\site-packages\\sklearn\\utils\\validation.py:171\u001b[0m, in \u001b[0;36m_assert_all_finite_element_wise\u001b[1;34m(X, xp, allow_nan, msg_dtype, estimator_name, input_name)\u001b[0m\n\u001b[0;32m    154\u001b[0m \u001b[39mif\u001b[39;00m estimator_name \u001b[39mand\u001b[39;00m input_name \u001b[39m==\u001b[39m \u001b[39m\"\u001b[39m\u001b[39mX\u001b[39m\u001b[39m\"\u001b[39m \u001b[39mand\u001b[39;00m has_nan_error:\n\u001b[0;32m    155\u001b[0m     \u001b[39m# Improve the error message on how to handle missing values in\u001b[39;00m\n\u001b[0;32m    156\u001b[0m     \u001b[39m# scikit-learn.\u001b[39;00m\n\u001b[0;32m    157\u001b[0m     msg_err \u001b[39m+\u001b[39m\u001b[39m=\u001b[39m (\n\u001b[0;32m    158\u001b[0m         \u001b[39mf\u001b[39m\u001b[39m\"\u001b[39m\u001b[39m\\n\u001b[39;00m\u001b[39m{\u001b[39;00mestimator_name\u001b[39m}\u001b[39;00m\u001b[39m does not accept missing values\u001b[39m\u001b[39m\"\u001b[39m\n\u001b[0;32m    159\u001b[0m         \u001b[39m\"\u001b[39m\u001b[39m encoded as NaN natively. For supervised learning, you might want\u001b[39m\u001b[39m\"\u001b[39m\n\u001b[1;32m   (...)\u001b[0m\n\u001b[0;32m    169\u001b[0m         \u001b[39m\"\u001b[39m\u001b[39m#estimators-that-handle-nan-values\u001b[39m\u001b[39m\"\u001b[39m\n\u001b[0;32m    170\u001b[0m     )\n\u001b[1;32m--> 171\u001b[0m \u001b[39mraise\u001b[39;00m \u001b[39mValueError\u001b[39;00m(msg_err)\n",
      "\u001b[1;31mValueError\u001b[0m: Input X contains NaN.\nLinearRegression does not accept missing values encoded as NaN natively. For supervised learning, you might want to consider sklearn.ensemble.HistGradientBoostingClassifier and Regressor which accept missing values encoded as NaNs natively. Alternatively, it is possible to preprocess the data, for instance by using an imputer transformer in a pipeline or drop samples with missing values. See https://scikit-learn.org/stable/modules/impute.html You can find a list of all estimators that handle NaN values at the following page: https://scikit-learn.org/stable/modules/impute.html#estimators-that-handle-nan-values"
     ]
    }
   ],
   "source": [
    "import pandas as pd\n",
    "import numpy as np\n",
    "from sklearn.linear_model import LinearRegression\n",
    "import matplotlib.pyplot as plt\n",
    "\n",
    "# Lee el archivo Excel con pandas\n",
    "datos = pd.read_excel('MedicionesAD736v2.xlsx')  # Reemplaza 'ruta_del_archivo.xlsx' con la ruta real de tu archivo Excel\n",
    "# Imprime información sobre las columnas\n",
    "print(\"Columnas en los datos:\")\n",
    "print(datos.columns)\n",
    "\n",
    "# Asegúrate de que las columnas 'Vi' y 'Vv' existan en tus datos\n",
    "if 'Equipo' in datos.columns and 'Generador' in datos.columns:\n",
    "    # Obtén las columnas Vi y Vv como arreglos de numpy\n",
    "    Vi = np.array(datos['Equipo']).reshape(-1, 1)\n",
    "    Vv = np.array(datos['Generador'])\n",
    "\n",
    "    # Crea un modelo de regresión lineal\n",
    "    modelo = LinearRegression()\n",
    "\n",
    "    # Ajusta el modelo con tus datos\n",
    "    modelo.fit(Vi, Vv)\n",
    "\n",
    "    # Obtiene los coeficientes 'a' y 'b'\n",
    "    a = modelo.coef_[0]\n",
    "    b = modelo.intercept_\n",
    "\n",
    "    # Imprime la ecuación de regresión lineal\n",
    "    print(f\"La ecuación de regresión lineal es: V = {a} * Vi + {b}\")\n",
    "\n",
    "    # Visualiza el gráfico\n",
    "    plt.scatter(Vi, Vv, color='blue', label='Datos')\n",
    "    plt.plot(Vi, modelo.predict(Vi), color='red', linewidth=2, label='Regresión lineal')\n",
    "    plt.xlabel('Vi')\n",
    "    plt.ylabel('Vv')\n",
    "    plt.legend()\n",
    "    plt.show()    \n",
    "else:\n",
    "    print(\"Asegúrate de que las columnas 'Vi' y 'Vv' existan en tus datos Excel.\")\n"
   ]
  },
  {
   "cell_type": "code",
   "execution_count": 18,
   "metadata": {},
   "outputs": [
    {
     "ename": "ValueError",
     "evalue": "Input X contains NaN.\nLinearRegression does not accept missing values encoded as NaN natively. For supervised learning, you might want to consider sklearn.ensemble.HistGradientBoostingClassifier and Regressor which accept missing values encoded as NaNs natively. Alternatively, it is possible to preprocess the data, for instance by using an imputer transformer in a pipeline or drop samples with missing values. See https://scikit-learn.org/stable/modules/impute.html You can find a list of all estimators that handle NaN values at the following page: https://scikit-learn.org/stable/modules/impute.html#estimators-that-handle-nan-values",
     "output_type": "error",
     "traceback": [
      "\u001b[1;31m---------------------------------------------------------------------------\u001b[0m",
      "\u001b[1;31mValueError\u001b[0m                                Traceback (most recent call last)",
      "\u001b[1;32mc:\\Users\\david\\Desktop\\TPO-MEI-2023\\TPO-ME1.ipynb Cell 23\u001b[0m line \u001b[0;36m1\n\u001b[0;32m     <a href='vscode-notebook-cell:/c%3A/Users/david/Desktop/TPO-MEI-2023/TPO-ME1.ipynb#X31sZmlsZQ%3D%3D?line=15'>16</a>\u001b[0m modelo \u001b[39m=\u001b[39m LinearRegression()\n\u001b[0;32m     <a href='vscode-notebook-cell:/c%3A/Users/david/Desktop/TPO-MEI-2023/TPO-ME1.ipynb#X31sZmlsZQ%3D%3D?line=17'>18</a>\u001b[0m \u001b[39m# Ajusta el modelo con tus datos\u001b[39;00m\n\u001b[1;32m---> <a href='vscode-notebook-cell:/c%3A/Users/david/Desktop/TPO-MEI-2023/TPO-ME1.ipynb#X31sZmlsZQ%3D%3D?line=18'>19</a>\u001b[0m modelo\u001b[39m.\u001b[39;49mfit(Vi, Vv)\n\u001b[0;32m     <a href='vscode-notebook-cell:/c%3A/Users/david/Desktop/TPO-MEI-2023/TPO-ME1.ipynb#X31sZmlsZQ%3D%3D?line=20'>21</a>\u001b[0m \u001b[39m# Obtiene los coeficientes 'a' y 'b'\u001b[39;00m\n\u001b[0;32m     <a href='vscode-notebook-cell:/c%3A/Users/david/Desktop/TPO-MEI-2023/TPO-ME1.ipynb#X31sZmlsZQ%3D%3D?line=21'>22</a>\u001b[0m a \u001b[39m=\u001b[39m modelo\u001b[39m.\u001b[39mcoef_[\u001b[39m0\u001b[39m]\n",
      "File \u001b[1;32m~\\AppData\\Local\\Packages\\PythonSoftwareFoundation.Python.3.10_qbz5n2kfra8p0\\LocalCache\\local-packages\\Python310\\site-packages\\sklearn\\base.py:1152\u001b[0m, in \u001b[0;36m_fit_context.<locals>.decorator.<locals>.wrapper\u001b[1;34m(estimator, *args, **kwargs)\u001b[0m\n\u001b[0;32m   1145\u001b[0m     estimator\u001b[39m.\u001b[39m_validate_params()\n\u001b[0;32m   1147\u001b[0m \u001b[39mwith\u001b[39;00m config_context(\n\u001b[0;32m   1148\u001b[0m     skip_parameter_validation\u001b[39m=\u001b[39m(\n\u001b[0;32m   1149\u001b[0m         prefer_skip_nested_validation \u001b[39mor\u001b[39;00m global_skip_validation\n\u001b[0;32m   1150\u001b[0m     )\n\u001b[0;32m   1151\u001b[0m ):\n\u001b[1;32m-> 1152\u001b[0m     \u001b[39mreturn\u001b[39;00m fit_method(estimator, \u001b[39m*\u001b[39margs, \u001b[39m*\u001b[39m\u001b[39m*\u001b[39mkwargs)\n",
      "File \u001b[1;32m~\\AppData\\Local\\Packages\\PythonSoftwareFoundation.Python.3.10_qbz5n2kfra8p0\\LocalCache\\local-packages\\Python310\\site-packages\\sklearn\\linear_model\\_base.py:678\u001b[0m, in \u001b[0;36mLinearRegression.fit\u001b[1;34m(self, X, y, sample_weight)\u001b[0m\n\u001b[0;32m    674\u001b[0m n_jobs_ \u001b[39m=\u001b[39m \u001b[39mself\u001b[39m\u001b[39m.\u001b[39mn_jobs\n\u001b[0;32m    676\u001b[0m accept_sparse \u001b[39m=\u001b[39m \u001b[39mFalse\u001b[39;00m \u001b[39mif\u001b[39;00m \u001b[39mself\u001b[39m\u001b[39m.\u001b[39mpositive \u001b[39melse\u001b[39;00m [\u001b[39m\"\u001b[39m\u001b[39mcsr\u001b[39m\u001b[39m\"\u001b[39m, \u001b[39m\"\u001b[39m\u001b[39mcsc\u001b[39m\u001b[39m\"\u001b[39m, \u001b[39m\"\u001b[39m\u001b[39mcoo\u001b[39m\u001b[39m\"\u001b[39m]\n\u001b[1;32m--> 678\u001b[0m X, y \u001b[39m=\u001b[39m \u001b[39mself\u001b[39;49m\u001b[39m.\u001b[39;49m_validate_data(\n\u001b[0;32m    679\u001b[0m     X, y, accept_sparse\u001b[39m=\u001b[39;49maccept_sparse, y_numeric\u001b[39m=\u001b[39;49m\u001b[39mTrue\u001b[39;49;00m, multi_output\u001b[39m=\u001b[39;49m\u001b[39mTrue\u001b[39;49;00m\n\u001b[0;32m    680\u001b[0m )\n\u001b[0;32m    682\u001b[0m has_sw \u001b[39m=\u001b[39m sample_weight \u001b[39mis\u001b[39;00m \u001b[39mnot\u001b[39;00m \u001b[39mNone\u001b[39;00m\n\u001b[0;32m    683\u001b[0m \u001b[39mif\u001b[39;00m has_sw:\n",
      "File \u001b[1;32m~\\AppData\\Local\\Packages\\PythonSoftwareFoundation.Python.3.10_qbz5n2kfra8p0\\LocalCache\\local-packages\\Python310\\site-packages\\sklearn\\base.py:622\u001b[0m, in \u001b[0;36mBaseEstimator._validate_data\u001b[1;34m(self, X, y, reset, validate_separately, cast_to_ndarray, **check_params)\u001b[0m\n\u001b[0;32m    620\u001b[0m         y \u001b[39m=\u001b[39m check_array(y, input_name\u001b[39m=\u001b[39m\u001b[39m\"\u001b[39m\u001b[39my\u001b[39m\u001b[39m\"\u001b[39m, \u001b[39m*\u001b[39m\u001b[39m*\u001b[39mcheck_y_params)\n\u001b[0;32m    621\u001b[0m     \u001b[39melse\u001b[39;00m:\n\u001b[1;32m--> 622\u001b[0m         X, y \u001b[39m=\u001b[39m check_X_y(X, y, \u001b[39m*\u001b[39m\u001b[39m*\u001b[39mcheck_params)\n\u001b[0;32m    623\u001b[0m     out \u001b[39m=\u001b[39m X, y\n\u001b[0;32m    625\u001b[0m \u001b[39mif\u001b[39;00m \u001b[39mnot\u001b[39;00m no_val_X \u001b[39mand\u001b[39;00m check_params\u001b[39m.\u001b[39mget(\u001b[39m\"\u001b[39m\u001b[39mensure_2d\u001b[39m\u001b[39m\"\u001b[39m, \u001b[39mTrue\u001b[39;00m):\n",
      "File \u001b[1;32m~\\AppData\\Local\\Packages\\PythonSoftwareFoundation.Python.3.10_qbz5n2kfra8p0\\LocalCache\\local-packages\\Python310\\site-packages\\sklearn\\utils\\validation.py:1146\u001b[0m, in \u001b[0;36mcheck_X_y\u001b[1;34m(X, y, accept_sparse, accept_large_sparse, dtype, order, copy, force_all_finite, ensure_2d, allow_nd, multi_output, ensure_min_samples, ensure_min_features, y_numeric, estimator)\u001b[0m\n\u001b[0;32m   1141\u001b[0m         estimator_name \u001b[39m=\u001b[39m _check_estimator_name(estimator)\n\u001b[0;32m   1142\u001b[0m     \u001b[39mraise\u001b[39;00m \u001b[39mValueError\u001b[39;00m(\n\u001b[0;32m   1143\u001b[0m         \u001b[39mf\u001b[39m\u001b[39m\"\u001b[39m\u001b[39m{\u001b[39;00mestimator_name\u001b[39m}\u001b[39;00m\u001b[39m requires y to be passed, but the target y is None\u001b[39m\u001b[39m\"\u001b[39m\n\u001b[0;32m   1144\u001b[0m     )\n\u001b[1;32m-> 1146\u001b[0m X \u001b[39m=\u001b[39m check_array(\n\u001b[0;32m   1147\u001b[0m     X,\n\u001b[0;32m   1148\u001b[0m     accept_sparse\u001b[39m=\u001b[39;49maccept_sparse,\n\u001b[0;32m   1149\u001b[0m     accept_large_sparse\u001b[39m=\u001b[39;49maccept_large_sparse,\n\u001b[0;32m   1150\u001b[0m     dtype\u001b[39m=\u001b[39;49mdtype,\n\u001b[0;32m   1151\u001b[0m     order\u001b[39m=\u001b[39;49morder,\n\u001b[0;32m   1152\u001b[0m     copy\u001b[39m=\u001b[39;49mcopy,\n\u001b[0;32m   1153\u001b[0m     force_all_finite\u001b[39m=\u001b[39;49mforce_all_finite,\n\u001b[0;32m   1154\u001b[0m     ensure_2d\u001b[39m=\u001b[39;49mensure_2d,\n\u001b[0;32m   1155\u001b[0m     allow_nd\u001b[39m=\u001b[39;49mallow_nd,\n\u001b[0;32m   1156\u001b[0m     ensure_min_samples\u001b[39m=\u001b[39;49mensure_min_samples,\n\u001b[0;32m   1157\u001b[0m     ensure_min_features\u001b[39m=\u001b[39;49mensure_min_features,\n\u001b[0;32m   1158\u001b[0m     estimator\u001b[39m=\u001b[39;49mestimator,\n\u001b[0;32m   1159\u001b[0m     input_name\u001b[39m=\u001b[39;49m\u001b[39m\"\u001b[39;49m\u001b[39mX\u001b[39;49m\u001b[39m\"\u001b[39;49m,\n\u001b[0;32m   1160\u001b[0m )\n\u001b[0;32m   1162\u001b[0m y \u001b[39m=\u001b[39m _check_y(y, multi_output\u001b[39m=\u001b[39mmulti_output, y_numeric\u001b[39m=\u001b[39my_numeric, estimator\u001b[39m=\u001b[39mestimator)\n\u001b[0;32m   1164\u001b[0m check_consistent_length(X, y)\n",
      "File \u001b[1;32m~\\AppData\\Local\\Packages\\PythonSoftwareFoundation.Python.3.10_qbz5n2kfra8p0\\LocalCache\\local-packages\\Python310\\site-packages\\sklearn\\utils\\validation.py:957\u001b[0m, in \u001b[0;36mcheck_array\u001b[1;34m(array, accept_sparse, accept_large_sparse, dtype, order, copy, force_all_finite, ensure_2d, allow_nd, ensure_min_samples, ensure_min_features, estimator, input_name)\u001b[0m\n\u001b[0;32m    951\u001b[0m         \u001b[39mraise\u001b[39;00m \u001b[39mValueError\u001b[39;00m(\n\u001b[0;32m    952\u001b[0m             \u001b[39m\"\u001b[39m\u001b[39mFound array with dim \u001b[39m\u001b[39m%d\u001b[39;00m\u001b[39m. \u001b[39m\u001b[39m%s\u001b[39;00m\u001b[39m expected <= 2.\u001b[39m\u001b[39m\"\u001b[39m\n\u001b[0;32m    953\u001b[0m             \u001b[39m%\u001b[39m (array\u001b[39m.\u001b[39mndim, estimator_name)\n\u001b[0;32m    954\u001b[0m         )\n\u001b[0;32m    956\u001b[0m     \u001b[39mif\u001b[39;00m force_all_finite:\n\u001b[1;32m--> 957\u001b[0m         _assert_all_finite(\n\u001b[0;32m    958\u001b[0m             array,\n\u001b[0;32m    959\u001b[0m             input_name\u001b[39m=\u001b[39;49minput_name,\n\u001b[0;32m    960\u001b[0m             estimator_name\u001b[39m=\u001b[39;49mestimator_name,\n\u001b[0;32m    961\u001b[0m             allow_nan\u001b[39m=\u001b[39;49mforce_all_finite \u001b[39m==\u001b[39;49m \u001b[39m\"\u001b[39;49m\u001b[39mallow-nan\u001b[39;49m\u001b[39m\"\u001b[39;49m,\n\u001b[0;32m    962\u001b[0m         )\n\u001b[0;32m    964\u001b[0m \u001b[39mif\u001b[39;00m ensure_min_samples \u001b[39m>\u001b[39m \u001b[39m0\u001b[39m:\n\u001b[0;32m    965\u001b[0m     n_samples \u001b[39m=\u001b[39m _num_samples(array)\n",
      "File \u001b[1;32m~\\AppData\\Local\\Packages\\PythonSoftwareFoundation.Python.3.10_qbz5n2kfra8p0\\LocalCache\\local-packages\\Python310\\site-packages\\sklearn\\utils\\validation.py:122\u001b[0m, in \u001b[0;36m_assert_all_finite\u001b[1;34m(X, allow_nan, msg_dtype, estimator_name, input_name)\u001b[0m\n\u001b[0;32m    119\u001b[0m \u001b[39mif\u001b[39;00m first_pass_isfinite:\n\u001b[0;32m    120\u001b[0m     \u001b[39mreturn\u001b[39;00m\n\u001b[1;32m--> 122\u001b[0m _assert_all_finite_element_wise(\n\u001b[0;32m    123\u001b[0m     X,\n\u001b[0;32m    124\u001b[0m     xp\u001b[39m=\u001b[39;49mxp,\n\u001b[0;32m    125\u001b[0m     allow_nan\u001b[39m=\u001b[39;49mallow_nan,\n\u001b[0;32m    126\u001b[0m     msg_dtype\u001b[39m=\u001b[39;49mmsg_dtype,\n\u001b[0;32m    127\u001b[0m     estimator_name\u001b[39m=\u001b[39;49mestimator_name,\n\u001b[0;32m    128\u001b[0m     input_name\u001b[39m=\u001b[39;49minput_name,\n\u001b[0;32m    129\u001b[0m )\n",
      "File \u001b[1;32m~\\AppData\\Local\\Packages\\PythonSoftwareFoundation.Python.3.10_qbz5n2kfra8p0\\LocalCache\\local-packages\\Python310\\site-packages\\sklearn\\utils\\validation.py:171\u001b[0m, in \u001b[0;36m_assert_all_finite_element_wise\u001b[1;34m(X, xp, allow_nan, msg_dtype, estimator_name, input_name)\u001b[0m\n\u001b[0;32m    154\u001b[0m \u001b[39mif\u001b[39;00m estimator_name \u001b[39mand\u001b[39;00m input_name \u001b[39m==\u001b[39m \u001b[39m\"\u001b[39m\u001b[39mX\u001b[39m\u001b[39m\"\u001b[39m \u001b[39mand\u001b[39;00m has_nan_error:\n\u001b[0;32m    155\u001b[0m     \u001b[39m# Improve the error message on how to handle missing values in\u001b[39;00m\n\u001b[0;32m    156\u001b[0m     \u001b[39m# scikit-learn.\u001b[39;00m\n\u001b[0;32m    157\u001b[0m     msg_err \u001b[39m+\u001b[39m\u001b[39m=\u001b[39m (\n\u001b[0;32m    158\u001b[0m         \u001b[39mf\u001b[39m\u001b[39m\"\u001b[39m\u001b[39m\\n\u001b[39;00m\u001b[39m{\u001b[39;00mestimator_name\u001b[39m}\u001b[39;00m\u001b[39m does not accept missing values\u001b[39m\u001b[39m\"\u001b[39m\n\u001b[0;32m    159\u001b[0m         \u001b[39m\"\u001b[39m\u001b[39m encoded as NaN natively. For supervised learning, you might want\u001b[39m\u001b[39m\"\u001b[39m\n\u001b[1;32m   (...)\u001b[0m\n\u001b[0;32m    169\u001b[0m         \u001b[39m\"\u001b[39m\u001b[39m#estimators-that-handle-nan-values\u001b[39m\u001b[39m\"\u001b[39m\n\u001b[0;32m    170\u001b[0m     )\n\u001b[1;32m--> 171\u001b[0m \u001b[39mraise\u001b[39;00m \u001b[39mValueError\u001b[39;00m(msg_err)\n",
      "\u001b[1;31mValueError\u001b[0m: Input X contains NaN.\nLinearRegression does not accept missing values encoded as NaN natively. For supervised learning, you might want to consider sklearn.ensemble.HistGradientBoostingClassifier and Regressor which accept missing values encoded as NaNs natively. Alternatively, it is possible to preprocess the data, for instance by using an imputer transformer in a pipeline or drop samples with missing values. See https://scikit-learn.org/stable/modules/impute.html You can find a list of all estimators that handle NaN values at the following page: https://scikit-learn.org/stable/modules/impute.html#estimators-that-handle-nan-values"
     ]
    }
   ],
   "source": [
    "import pandas as pd\n",
    "import numpy as np\n",
    "from sklearn.linear_model import LinearRegression\n",
    "import matplotlib.pyplot as plt\n",
    "\n",
    "# Lee el archivo Excel con pandas\n",
    "datos = pd.read_excel('MedicionesAD736v2.xlsx')  # Reemplaza 'ruta_del_archivo.xlsx' con la ruta real de tu archivo Excel\n",
    "\n",
    "# Asegúrate de que las columnas Vi y Vv existan en tus datos\n",
    "if 'Equipo' in datos.columns and 'Generador' in datos.columns:\n",
    "    # Obtén las columnas Vi y Vv como arreglos de numpy\n",
    "    Vi = np.array(datos['Equipo']).reshape(-1, 1)\n",
    "    Vv = np.array(datos['Generador'])\n",
    "\n",
    "    # Crea un modelo de regresión lineal\n",
    "    modelo = LinearRegression()\n",
    "\n",
    "    # Ajusta el modelo con tus datos\n",
    "    modelo.fit(Vi, Vv)\n",
    "\n",
    "    # Obtiene los coeficientes 'a' y 'b'\n",
    "    a = modelo.coef_[0]\n",
    "    b = modelo.intercept_\n",
    "\n",
    "    # Imprime la ecuación de regresión lineal\n",
    "    print(f\"La ecuación de regresión lineal es: V = {a} * Vi + {b}\")\n",
    "\n",
    "    # Visualiza el gráfico\n",
    "    plt.scatter(Vi, Vv, color='blue', label='Datos')\n",
    "    plt.plot(Vi, modelo.predict(Vi), color='red', linewidth=2, label='Regresión lineal')\n",
    "    plt.xlabel('Vi')\n",
    "    plt.ylabel('Vv')\n",
    "    plt.legend()\n",
    "    plt.show()\n",
    "else:\n",
    "    print(\"Asegúrate de que las columnas 'Vi' y 'Vv' existan en tus datos Excel.\")\n"
   ]
  },
  {
   "cell_type": "markdown",
   "metadata": {},
   "source": [
    "<div style=\"text-align: left;\">\n",
    "  <span style=\"border: 2px solid white; padding: 5px; display: inline-block; background-color: green; font-family: 'American Typewriter', 'Courier New', Courier, 'Lucida Sans Typewriter', 'Lucida Typewriter', monospace; font-size: 20px; color: #FFFFFF; font-weight: bold;\">\n",
    "    VIII.\tAnálisis y conclusiones referidas a la incertidumbre lograda.\n",
    "  </span>\n",
    "</div>"
   ]
  },
  {
   "cell_type": "code",
   "execution_count": 10,
   "metadata": {},
   "outputs": [
    {
     "data": {
      "image/png": "[encoded data removed]",
      "text/plain": [
       "<Figure size 640x480 with 1 Axes>"
      ]
     },
     "metadata": {},
     "output_type": "display_data"
    }
   ],
   "source": [
    "import pandas as pd\n",
    "import matplotlib.pyplot as plt\n",
    "\n",
    "# Lee el archivo Excel\n",
    "archivo_excel = \"MedicionesAD736v2.xlsx\"\n",
    "df = pd.read_excel(archivo_excel)\n",
    "\n",
    "# Extrae las columnas de frecuencia y tensión\n",
    "frecuencia = df['Frecuencia']\n",
    "tension = df['Tension']\n",
    "\n",
    "# Crea el gráfico con escala logarítmica en el eje x\n",
    "plt.semilogx(frecuencia, tension, linestyle='-', color='b')\n",
    "\n",
    "# Añade etiquetas y título\n",
    "plt.xlabel('Frecuencia (Hz)')\n",
    "plt.ylabel('Tensión')\n",
    "plt.title('Gráfico Tensión-Frecuencia')\n",
    "\n",
    "# Muestra el gráfico\n",
    "plt.grid(True)\n",
    "plt.show()\n"
   ]
  }
 ],
 "metadata": {
  "kernelspec": {
   "display_name": "Python 3",
   "language": "python",
   "name": "python3"
  },
  "language_info": {
   "codemirror_mode": {
    "name": "ipython",
    "version": 3
   },
   "file_extension": ".py",
   "mimetype": "text/x-python",
   "name": "python",
   "nbconvert_exporter": "python",
   "pygments_lexer": "ipython3",
   "version": "3.10.11"
  }
 },
 "nbformat": 4,
 "nbformat_minor": 2
}
