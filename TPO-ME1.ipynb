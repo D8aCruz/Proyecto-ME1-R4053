{
 "cells": [
  {
   "cell_type": "markdown",
   "metadata": {},
   "source": [
    "<div style=\"display: flex; align-items: center;\">\n",
    "    <img src=\"logo-utn-frba-electronica.svg\" alt=\"Logo UTN FRBA\" width=\"250\" height=\"100\" style=\"flex-shrink: 0;\">\n",
    "    <p style=\"font-family: 'American Typewriter', 'Courier New', Courier, 'Lucida Sans Typewriter', 'Lucida Typewriter', monospace; text-align: right; margin-left: auto; line-height: 1.2;\">\n",
    "    <font color='black'><strong>MEDIDAS ELECTRÓNICAS I</strong><br>Curso R4053 - 2023<br>Grupo 8</font>\n",
    "    </p>\n",
    "    </div>"
   ]
  },
  {
   "cell_type": "markdown",
   "metadata": {},
   "source": [
    "<p style=\"border: ridge white 2px; text-align: center;font-weight: italic; font-family: 'American Typewriter', 'Courier New', Courier, 'Lucida Sans Typewriter', 'Lucida Typewriter', monospace; font-size:30px; background-color:#2CD546\"><font color='white'>\n",
    "    <strong>Medidor RMS</strong>\n",
    "</p>"
   ]
  },
  {
   "cell_type": "markdown",
   "metadata": {},
   "source": [
    "<!DOCTYPE html>\n",
    "<html>\n",
    "<head>\n",
    "<style>\n",
    "  /* Estilos CSS aquí */\n",
    "  body {\n",
    "    font-family: Arial, sans-serif;\n",
    "    background-color: white;\n",
    "    color: black;\n",
    "    margin: 20px;\n",
    "    padding: 20px;\n",
    "  }\n",
    "</style>\n",
    "</head>\n",
    "<body>\n",
    "<p style=\"text-align: justify; font-weight: italic; font-size:15px;\">\n",
    "  <strong>OBJETIVO:</strong>\n",
    "</p>\n",
    "<p style=\"text-align: justify; font-weight: italic; font-size:15px;\">\n",
    "Realizar un informe detallado sobre las características del instrumento, la magnitud a medir, partes que la componen y su principio de funcionamiento. Además de incluir cálculos de incertidumbre, método utilizado para la calibración del equipo.</p>\n",
    "</body>\n",
    "</html>"
   ]
  },
  {
   "cell_type": "markdown",
   "metadata": {},
   "source": [
    "<div style=\"text-align: left;\">\n",
    "  <span style=\"border: 2px solid white; padding: 5px; display: inline-block; background-color: green; font-family: 'American Typewriter', 'Courier New', Courier, 'Lucida Sans Typewriter', 'Lucida Typewriter', monospace; font-size: 20px; color: #FFFFFF; font-weight: bold;\">\n",
    "    I.\tDescripción de la necesidad que satisface el equipo de medicióna\n",
    "  </span>\n",
    "</div>"
   ]
  },
  {
   "cell_type": "markdown",
   "metadata": {},
   "source": [
    "<p style=\"text-align: justify; font-weight: italic; font-size:15px;\">\n",
    "El equipo de medición satisface la necesidad de medir con precisión el Valor eficaz (RMS, por sus siglas en inglés) de pequeñas señales de baja frecuencia (en el entorno de las frecuencias de audio), con el fin de evaluar la calidad de sonido para sistemas de audio. La medición del valor RMS en estas señales permite evaluar el nivel de ruido presente a la entrada y a la salida de cada una de las etapas que compone un sistema de audio. Dicha evaluación es esencial para determinar la relación señal a ruido y, en consecuencia, evidenciar o no la fidelidad del audio en cuestión.</p>"
   ]
  },
  {
   "cell_type": "markdown",
   "metadata": {},
   "source": [
    "<div style=\"text-align: left;\">\n",
    "  <span style=\"border: 2px solid white; padding: 5px; display: inline-block; background-color: green; font-family: 'American Typewriter', 'Courier New', Courier, 'Lucida Sans Typewriter', 'Lucida Typewriter', monospace; font-size: 20px; color: #FFFFFF; font-weight: bold;\">\n",
    "    II.\tDescripción de las características de los parámetros a medir\n",
    "  </span>\n",
    "</div>"
   ]
  },
  {
   "cell_type": "markdown",
   "metadata": {},
   "source": [
    "<p style=\"text-align: justify; font-weight: italic; font-size:15px;\">\n",
    "El valor RMS (Root Mean Square) es un parámetro utilizado para medir la magnitud de la señal eléctrica o una señal periódica. El valor RMS es una medida directa de la potencia o el valor de calentamiento de una tensión alterna en comparación con una tensión de corriente continua. En otras palabras, una señal AC de 1V RMS produce la misa cantidad de calor en una resistencia que una señal de DC de 1V. El valor RMS se calcula tomando la raíz cuadrada de la media de los cuadrados de los valores de la señal a lo largo de un periodo completo: </p>\n",
    "\n",
    "$$V_{RMS} = \\sqrt{\\frac{1}{T} \\int_{0}^{T} x^2(t) \\, dt}$$\n",
    "\n",
    "<p style=\"text-align: justify; font-weight: italic; font-size:15px;\">\n",
    "Este enfoque tiene en cuenta tanto los valores positivos como negativos de la señal y los pondera de manera uniforme. Para el caso de señales no periódicas el calculo tiene un pequeño cambia: </p>\n",
    "\n",
    "\n",
    "$$V_{RMS} = \\lim_{{t \\to \\infty}} \\sqrt{\\frac{1}{T} \\int_{0}^{T} x^2(t) \\, dt}$$\n",
    "\n"
   ]
  },
  {
   "cell_type": "markdown",
   "metadata": {},
   "source": [
    "<div style=\"text-align: left;\">\n",
    "  <span style=\"border: 2px solid white; padding: 5px; display: inline-block; background-color: green; font-family: 'American Typewriter', 'Courier New', Courier, 'Lucida Sans Typewriter', 'Lucida Typewriter', monospace; font-size: 20px; color: #FFFFFF; font-weight: bold;\">\n",
    "    III.\tDetalle del principio de funcionamiento del sensor utilizado.\n",
    "  </span>\n",
    "</div>"
   ]
  },
  {
   "cell_type": "markdown",
   "metadata": {},
   "source": [
    "<p style=\"text-align: justify; font-weight: italic; font-size:15px;\">\n",
    "Para medir el valor RMS vamos a utilizar el integrado AD736 de Analog Devices, que es un conversor de verdadero valor eficaz (RMS) a corriente continua (CC) monolítico, de baja potencia y alta precisión. El AD736 puede calcular el valor eficaz (RMS) de tensión de entrada tanto de alterna como de continua. También puede operar como un dispositivo acoplado en AC agregando un capacitor externo. En este modo, el AD736 puede resolver niveles de señal de entrada de 100μV RMS o menos, a pesar de las variaciones de temperatura o tensión de alimentación. También se mantiene una alta precisión para formas de onda de entrada con factores de cresta de 1 a 3. Además, se puede medir factores de cresta de hasta 5 (introduciendo solo un 2.5% de error adicional). Este integrado requiere solo 200uA de corriente de alimentación y está optimizado para su uso como multímetro y otras aplicaciones alimentadas por batería</p>\n",
    "<div style=\"max-width: 200%; text-align: center;\">\n",
    "  <img src=\"Imagen1.png\" alt=\"Texto alternativo\" style=\"max-width: 200%;\">\n",
    "</div>\n",
    "\n",
    "<p style=\"text-align: justify; font-weight: italic; font-size:15px;\">\n",
    "Como se muestra en la figura 1 el AD736 cuenta con cinco subsecciones funcionales: el amplificador de entrada, el rectificador de onda completa (FWR), el núcleo RMS, el amplificador de salida y la sección de polarización.</p>\n",
    "\n",
    "<p style=\"text-align: justify; font-weight: italic; font-size:15px;\">\n",
    "El amplificador de entrada FET es alta impedancia (de 10^12 Ω) con buffer, de baja corriente de polarización, adecuada para su uso con atenuadores de entrada de alta impedancia. La señal del amplificador de entrada ingresa a un rectificador de precisión de onda completa que, su salida pasa al núcleo RMS. Las operaciones fundamentales del cálculo del valor eficaz (RMS), como elevar al cuadrado, promediar y calcular la raíz cuadrada, se realiza en el núcleo RMS utilizando un capacitor de promedio externo, CAV. Sin este capacitor la señal de entrada rectificada atraviesa el núcleo sin procesarse. Como última subsección tenemos, un amplificador de salida, que almacena en un buffer la salida del núcleo y permite realizar la filtración opcional pasa bajos, mediante un capacitor externo CF, que se conecta en el camino de retroalimentación del amplificador. Esta etapa adicional de filtrado ayuda a reducir cualquier fluctuación en la salida que no se haya eliminado mediante el capacitor CAV.</h2>\n",
    "<h3> 3.1\tCómo funcionan los convertidores de RMS a DC.</h3>\n",
    "\n",
    "<p style=\"text-align: justify; font-weight: italic; font-size:15px;\">\n",
    "Los convertidores de RMS a DC resuelven una ecuación implícita para determinar el valor RMS de una tensión. A continuación, se mostrarán las transformaciones que conducen desde la definición de la tensión RMS hasta la ecuación implícita. Luego, se explicará la implementación de esta ecuación implícita en un convertidor de RMS a DC monolítico.</p>\n",
    "\n",
    "<p style=\"text-align: justify; font-weight: italic; font-size:15px;\">\n",
    "La definición del valor RMS de una tensión es la siguiente: </p>\n",
    "\n",
    "$$V_{RMS} = \\sqrt{\\frac{1}{T} \\int_{0}^{T} [v^2(t)] \\, dt}   (1)$$\n",
    "\n",
    "<p style=\"text-align: justify; font-weight: italic; font-size:15px;\">\n",
    "Donde V_RMS es el valor RMS, T es la duración de la medición y v(t) es la tensión instantánea, una función del tiempo, pero no necesariamente periódica. </p>\n",
    "\n",
    "<p style=\"text-align: justify; font-weight: italic; font-size:15px;\">\n",
    "Al elevar ambos lados de esta ecuación al cuadrado, se obtiene:</p>\n",
    "\n",
    "$$V_{RMS}^2 = \\frac{1}{T} \\int_{0}^{T} [v^2(t)] \\, dt   (2)$$\n",
    "\n",
    "<p style=\"text-align: justify; font-weight: italic; font-size:15px;\">\n",
    "La integral se puede aproximar como un promedio móvil:</p>\n",
    "\n",
    "$$Avg[v(t)]^2 = \\frac{1}{T} \\int_{0}^{T} [v^2(t)] \\, dt   (3)$$\n",
    "\n",
    "<p style=\"text-align: justify; font-weight: italic; font-size:15px;\">\n",
    "Luego, la Ecuación 2 se simplifica a:</p>\n",
    "\n",
    "$$V_{RMS}^2 = \\text{Avg}[v^2(t)]   (4)$$\n",
    "\n",
    "<p style=\"text-align: justify; font-weight: italic; font-size:15px;\">\n",
    "Dividiendo ambos lados por VRMS se obtiene:</p>\n",
    "\n",
    "$$V_{RMS} = \\frac{\\text{Avg}[v^2(t)]}{V_{RMS}}   (5)$$\n",
    "\n",
    "<p style=\"text-align: justify; font-weight: italic; font-size:15px;\">\n",
    "Esta expresión proporciona la base para la solución implícita de V_RMS y es la técnica utilizada en la línea de convertidores de RMS a DC monolíticos de Analog Devices.</p>\n",
    "\n",
    "<p style=\"text-align: justify; font-weight: italic; font-size:15px;\">\n",
    "Cabe destacar que al tomar la raíz cuadrada de ambos lados de la Ecuación 4 se obtiene:</p>\n",
    "\n",
    "$$V_{RMS} = \\sqrt{\\text{Avg}[v^2(t)]}$$\n",
    "\n",
    "<p style=\"text-align: justify; font-weight: italic; font-size:15px;\">\n",
    "Este es un método alternativo para expresar el valor RMS (raíz cuadrada de la media de los cuadrados) de la función.</p>\n",
    "\n",
    "<p style=\"text-align: justify; font-weight: italic; font-size:15px;\">\n",
    "El método implícito de cálculo de valores RMS es preferible al método explícito (elevar al cuadrado sucesivamente, promediar y tomar la raíz cuadrada de la señal de entrada) por razones prácticas que resultan en un rango dinámico superior. Utilizando el método explícito, la salida del cuadrador variará en un rango dinámico de 10,000:1 (de 1 mV a 10 V) para una entrada instantánea de 100:1 (de 0.1 V a 10 V). Dado que el cuadrador de entrada utilizado en el método explícito tendrá errores mayores de 1 mV, el error dependerá fuertemente del nivel de señal, lo que resulta en un rango dinámico general de menos de 100:1.</p>\n",
    "\n",
    "<p style=\"text-align: justify; font-weight: italic; font-size:15px;\">\n",
    "La Figura 2 muestra el método implícito de conversión de RMS a DC. El circuito es esencialmente una computadora analógica que resuelve la Ecuación 5. Los dispositivos de Analog Devices AD536A, AD636, AD637, AD736 y AD737 utilizan variaciones de este enfoque.</p>\n",
    "\n",
    "<div style=\"max-width: 100%; text-align: center;\">\n",
    "  <img src=\"Imagen2.png\" alt=\"Texto alternativo\" style=\"max-width: 100%;\">\n",
    "</div>\n",
    "\n",
    "<p style=\"text-align: justify; font-weight: italic; font-size:15px;\">\n",
    "La etapa de entrada es un búfer de ganancia unitaria, que no está comprometido en los dispositivos AD536A, AD636 y AD637 y está comprometido en los dispositivos AD736 y AD737. \"No comprometido\" en este contexto significa que tanto las entradas como la conexión de salida son accesibles; el usuario tiene la opción de utilizar este búfer como una entrada de alta impedancia para el convertidor, utilizarlo para construir un filtro activo que siga al filtro de promediado del convertidor RMS a DC o simplemente dejarlo desconectado.</p>\n",
    "\n",
    "<p style=\"text-align: justify; font-weight: italic; font-size:15px;\">\n",
    "Un circuito de valor absoluto (es decir, un rectificador de onda completa de precisión) sigue al búfer de entrada. La salida del circuito de valor absoluto impulsa un cuadrador/divisor. El cuadrador/divisor eleva al cuadrado la señal de entrada y la divide por la señal de salida, que es la salida promediada del circuito de cuadratura. Al cerrar el lazo alrededor del divisor, se resuelve continuamente la Ecuación 5.</p>\n",
    "\n",
    "<h3> 3.2\tEspecificaciones técnicas</h3>\n",
    "\n",
    "<ul>\n",
    "  <li style=\"text-align: justify; font-weight: italic; font-size:15px;\">Convierte una forma de onda de voltaje alterna (AC) en un voltaje directo (DC) y luego lo convierte en verdadero valor eficaz (RMS), valor rectificado promedio o valor absoluto.</li>\n",
    "  <li style=\"text-align: justify; font-weight: italic; font-size:15px;\">Rango de entrada de hasta 200 mV RMS a escala completa (con opciones para entradas más grandes mediante un atenuador de entrada).</li>\n",
    "  <li style=\"text-align: justify; font-weight: italic; font-size:15px;\">Alta impedancia de entrada de 10^12 ohmios, lo que significa que no carga la fuente de señal.</li>\n",
    "  <li style=\"text-align: justify; font-weight: italic; font-size:15px;\">Corriente de polarización de entrada baja, con un máximo de 25μA.</li>\n",
    "  <li style=\"text-align: justify; font-weight: italic; font-size:15px;\">Alta precisión con un error de ±0.3 mV ± 0.3% de la lectura, especialmente con señales sinusoidales.</li>\n",
    "  <li style=\"text-align: justify; font-weight: italic; font-size:15px;\">Capacidad de conversión RMS con factores de cresta de señal de hasta 5.</li>\n",
    "  <li style=\"text-align: justify; font-weight: italic; font-size:15px;\">Amplio rango de fuente de alimentación de +2.8 V a -3.2 V a ±16.5 V.</li>\n",
    "  <li style=\"text-align: justify; font-weight: italic; font-size:15px;\">Consumo de energía bajo, con una corriente máxima de suministro de 200 µA.</li>\n",
    "  <li style=\"text-align: justify; font-weight: italic; font-size:15px;\">Ofrece una salida de voltaje en búfer, lo que proporciona flexibilidad de diseño.</li>\n",
    "  <li style=\"text-align: justify; font-weight: italic; font-size:15px;\">No requiere ajustes externos para lograr la precisión especificada.</li>\n",
    "</ul>\n",
    "\n",
    "<h3> 3.3\tAmpliación de los Rangos de Entrada a Escala Completa del AD736 y AD737</h3>\n",
    "\n",
    "<p style=\"text-align: justify; font-weight: italic; font-size:15px;\">\n",
    "La entrada de alta impedancia (Pin 2) del AD736 y AD737 permite el uso de atenuadores resistivos simples (Figura 2) para ampliar su rango de entrada. Sin atenuación de entrada, tanto el AD736 como el AD737 pueden medir con precisión señales de entrada de hasta 200 mV rms con factores de cresta de 1 a 3.</p>\n",
    "\n",
    "<p style=\"text-align: justify; font-weight: italic; font-size:15px;\">\n",
    "El atenuador externo simplemente reduce la entrada a escala completa al rango de entrada de 200 mV rms del AD736 o AD737. Por ejemplo, para una entrada máxima de 7 V rms (10 V pico), el atenuador debería ser un divisor de voltaje de 35:1 (7/0.2). La lectura del convertidor debe escalarse por el factor de atenuación utilizado. </p>\n",
    "\n",
    "<div style=\"max-width: 100%; text-align: center;\">\n",
    "  <img src=\"Imagen3.png\" alt=\"Texto alternativo\" style=\"max-width: 100%;\">\n",
    "</div>\n"
   ]
  },
  {
   "cell_type": "markdown",
   "metadata": {},
   "source": [
    "<div style=\"text-align: left;\">\n",
    "  <span style=\"border: 2px solid white; padding: 5px; display: inline-block; background-color: green; font-family: 'American Typewriter', 'Courier New', Courier, 'Lucida Sans Typewriter', 'Lucida Typewriter', monospace; font-size: 18px; color: #FFFFFF; font-weight: bold;\">\n",
    "    IV.\tDescripción del principio de funcionamiento de los sensores descartados.\n",
    "  </span>\n",
    "</div>"
   ]
  },
  {
   "cell_type": "code",
   "execution_count": null,
   "metadata": {},
   "outputs": [],
   "source": []
  },
  {
   "cell_type": "markdown",
   "metadata": {},
   "source": [
    "<div style=\"text-align: left;\">\n",
    "  <span style=\"border: 2px solid white; padding: 5px; display: inline-block; background-color: green; font-family: 'American Typewriter', 'Courier New', Courier, 'Lucida Sans Typewriter', 'Lucida Typewriter', monospace; font-size: 20px; color: #FFFFFF; font-weight: bold;\">\n",
    "    V.\tDiagrama en bloques del sistema.\n",
    "  </span>\n",
    "</div>"
   ]
  },
  {
   "cell_type": "markdown",
   "metadata": {},
   "source": [
    "<div style=\"max-width: 100%; text-align: center;\">\n",
    "  <img src=\"DiagramaEnBloque.jpg\" alt=\"Texto alternativo\" style=\"max-width: 100%;\">\n",
    "</div>"
   ]
  },
  {
   "cell_type": "markdown",
   "metadata": {},
   "source": [
    "<div style=\"text-align: left;\">\n",
    "  <span style=\"border: 2px solid white; padding: 5px; display: inline-block; background-color: green; font-family: 'American Typewriter', 'Courier New', Courier, 'Lucida Sans Typewriter', 'Lucida Typewriter', monospace; font-size: 20px; color: #FFFFFF; font-weight: bold;\">\n",
    "    VI.\tDiagrama del flujo del algoritmo utilizado.\n",
    "  </span>\n",
    "</div>"
   ]
  },
  {
   "cell_type": "markdown",
   "metadata": {},
   "source": [
    "<div style=\"max-width: 100%; text-align: Left;\">\n",
    "  <img src=\"Imagen4.jpg\" alt=\"Texto alternativo\" style=\"max-width: 100%;\">\n",
    "</div>"
   ]
  },
  {
   "cell_type": "markdown",
   "metadata": {},
   "source": [
    "<div style=\"text-align: left;\">\n",
    "  <span style=\"border: 2px solid white; padding: 5px; display: inline-block; background-color: green; font-family: 'American Typewriter', 'Courier New', Courier, 'Lucida Sans Typewriter', 'Lucida Typewriter', monospace; font-size: 20px; color: #FFFFFF; font-weight: bold;\">\n",
    "    VII.\tCálculo de las incertidumbres del equipo.\n",
    "  </span>\n",
    "</div>"
   ]
  },
  {
   "cell_type": "markdown",
   "metadata": {},
   "source": [
    "**Impedancia de entrada**\n",
    "- $R_3$ = 5.7MΩ ± 5% 0.25W\n",
    "- $R_4$ = 3.3MΩ ± 5% 0.25W\n",
    "- $R_5$ = 750kΩ ± 5% 0.25W\n",
    "- $R_6$ = 51kΩ ± 5% 0.25W\n",
    "- $R_7$ = 150kΩ ± 5% 0.25W\n",
    "- $R_8$ = 51kΩ ± 5% 0.25W\n",
    "- $R_x$ = 47kΩ ± 5% 1W\n",
    "\n",
    "**AD736J**\n",
    "- Tensión de alimentación: ± 5V\n",
    "- Impedancia de entrada: $10^{12} Ω$\n",
    "- Factor de conversión: $S = 1[\\frac{V}{Vrms}]$\n",
    "- VRMSmáx = 200mVrms\n",
    "- Error: 0.3mV ± 0.3%\n",
    "\n",
    "**MCP602**\n",
    "- Rail-to-rail Input/Output\n",
    "- Tensión de alimentación: 1.8V a 5.5V\n",
    "- Ancho de banda: 1MHz\n",
    "- Voutmáx: 4.975V\n",
    "- Voutmín: 25mV\n",
    "\n",
    "**Circuito No Inversor:**\n",
    "- $R_1$ = 33kΩ ± 5% 0.25W\n",
    "- $R_2$ = 750kΩ ± 5% 0.25W\n",
    "- $A_v$ = (1 + $\\frac{R_2}{R_1}$)\n",
    "\n",
    "**CAD**\n",
    "- Resolución: 10 bits\n",
    "- Precisión: ±2 LSB\n",
    "- Tiempo de conversión: 65 a 260 µs\n",
    "- VREF = 5V ± 1%\n",
    "\n",
    "**Esc. 200mV**\n",
    "\n",
    "$A_t = 1$\n",
    "\n",
    "**Esc. 2V**\n",
    "\n",
    "$ A_t = \\frac{(R_3 + R_4) + (R_5 + R_6 + R_7 + R_8)}{R_5 + R_6 + R_7 + R_8} $\n",
    "\n",
    "$ A_t = \\frac{R_{34} + R_{58}}{R_{58}} $\n",
    "\n",
    "**Esc. 10V**\n",
    "\n",
    "$ A_t = \\frac{R_3 + R_4 + R_5 + R_6 + R_7 + R_8}{R_7 + R_8} $\n",
    "\n",
    "\n"
   ]
  },
  {
   "cell_type": "markdown",
   "metadata": {},
   "source": [
    "<h3 style=\"text-align: center;\"> Ecucaciones </h3>"
   ]
  },
  {
   "cell_type": "markdown",
   "metadata": {},
   "source": [
    "$$V_{out} = V_{dc} \\cdot A_v$$\n",
    "$$V_{dc} = S \\cdot V_{rms}$$\n",
    "$$V_{rms} = V_{in} \\cdot A_t$$\n",
    "$$V_{out} = \\frac{V_{in} \\cdot A_v}{A_t}$$"
   ]
  },
  {
   "cell_type": "markdown",
   "metadata": {},
   "source": [
    "Realizamos el cálculo de insertidumbre de la cuenta indicada por el ADC a partir de la siguiente expresión:\n",
    "$$C_I = \\frac{V_{out} \\cdot 2^N}{V_{ref}} \\quad(1)$$\n",
    "\n",
    "Su insertidumbre relaitiva será:\n",
    "\n",
    "$$u_r(C_{I}) = \\sqrt{u_r^2(V_{out}) + u_r^2(CAD) + u_r^2(V_{ref}) }$$\n"
   ]
  },
  {
   "cell_type": "code",
   "execution_count": 1,
   "metadata": {},
   "outputs": [
    {
     "data": {
      "text/latex": [
       "$\\displaystyle u_r(V_{out}) = 0.0025000000000000356$"
      ],
      "text/plain": [
       "<IPython.core.display.Math object>"
      ]
     },
     "metadata": {},
     "output_type": "display_data"
    },
    {
     "data": {
      "text/latex": [
       "$\\displaystyle u_r(CAD) = 0.001127637244510988$"
      ],
      "text/plain": [
       "<IPython.core.display.Math object>"
      ]
     },
     "metadata": {},
     "output_type": "display_data"
    },
    {
     "data": {
      "text/latex": [
       "$\\displaystyle u_r(V_{ref}) = 0.005$"
      ],
      "text/plain": [
       "<IPython.core.display.Math object>"
      ]
     },
     "metadata": {},
     "output_type": "display_data"
    },
    {
     "data": {
      "text/latex": [
       "$\\displaystyle u_r(C_I) = 0.005702768253682462$"
      ],
      "text/plain": [
       "<IPython.core.display.Math object>"
      ]
     },
     "metadata": {},
     "output_type": "display_data"
    }
   ],
   "source": [
    "import numpy as np\n",
    "from IPython.display import display, Math\n",
    "#Incertidumbre de Vout\n",
    "Vout = 5\n",
    "Voutmax = 4.975\n",
    "Voutmin = 0.025\n",
    "ΔVout = (Vout-Voutmax)/Vout\n",
    "ur_Vout = ΔVout/2\n",
    "\n",
    "#Incertidumbre de CAD\n",
    "N = 10\n",
    "LSB = 2\n",
    "ΔCAD = LSB/(2**N)\n",
    "ur_CAD = ΔCAD/np.sqrt(3)\n",
    "#Incertidumbre de Vref\n",
    "Vref = 5\n",
    "ΔVref = 0.01\n",
    "Vrefmin = Vref*(1-ΔVref)\n",
    "Vrefmax = Vref*(1+ΔVref)\n",
    "ur_Vref = ΔVref/2\n",
    "\n",
    "#Incertidumbre de Cuenta Indicada:\n",
    "ur_Ci = np.sqrt(ur_Vout**2 + ur_CAD**2 + ur_Vref**2)\n",
    "\n",
    "#Mostramos los resultados\n",
    "display(Math(f\"u_r(V_{{out}}) = {ur_Vout}\"))\n",
    "display(Math(f\"u_r(CAD) = {ur_CAD}\"))\n",
    "display(Math(f\"u_r(V_{{ref}}) = {ur_Vref}\"))\n",
    "display(Math(f\"u_r(C_I) = {ur_Ci}\"))"
   ]
  },
  {
   "cell_type": "markdown",
   "metadata": {},
   "source": [
    "Despejando la ecuación 1 en función de la tensión a la entrada del ADC:\n",
    "   $$ V_{\\text{out}} = \\frac{C_I \\cdot V_{\\text{ref}}}{2^N}\n",
    "   \\quad (2) $$\n",
    "\n",
    "Calculamos la tensión previa a la amplificación:\n",
    "   $$V_{dc} = \\frac{V_{\\text{out}}}{A_v} \\rightarrow V_{dc} = \\frac{C_I \\cdot V_{\\text{ref}}}{2^N \\cdot A_v}\\quad (3)$$\n",
    "\n",
    "   Donde:\n",
    "   $$A_v = \\left(1 + \\frac{R_2}{R_3}\\right) \\quad (4) $$\n",
    "\n",
    "   Y su incertidumbre relativa:\n",
    "   $$u_r(A_v) = \\frac{R_2}{R_1} \\cdot \\frac{\\sqrt{u_r^2(R_1) + u_r^2(R_2)}}{A_v}$$"
   ]
  },
  {
   "cell_type": "code",
   "execution_count": 2,
   "metadata": {},
   "outputs": [
    {
     "data": {
      "text/latex": [
       "$\\displaystyle u_r(R_1) = 0.005$"
      ],
      "text/plain": [
       "<IPython.core.display.Math object>"
      ]
     },
     "metadata": {},
     "output_type": "display_data"
    },
    {
     "data": {
      "text/latex": [
       "$\\displaystyle u_r(R_2) = 0.005$"
      ],
      "text/plain": [
       "<IPython.core.display.Math object>"
      ]
     },
     "metadata": {},
     "output_type": "display_data"
    },
    {
     "data": {
      "text/latex": [
       "$\\displaystyle u_r(A_v) = 0.006923753899118278$"
      ],
      "text/plain": [
       "<IPython.core.display.Math object>"
      ]
     },
     "metadata": {},
     "output_type": "display_data"
    },
    {
     "data": {
      "text/latex": [
       "$\\displaystyle A_{v} = 48.000$"
      ],
      "text/plain": [
       "<IPython.core.display.Math object>"
      ]
     },
     "metadata": {},
     "output_type": "display_data"
    }
   ],
   "source": [
    "#Incertidumbre de R1 y R2\n",
    "R1  = 10000\n",
    "R2  = 470000\n",
    "ΔR1 = 0.01\n",
    "ΔR2 = 0.01\n",
    "ur_R1 = ΔR1/2\n",
    "ur_R2 = ΔR2/2\n",
    "\n",
    "R1min = R1*(1-ΔR1)\n",
    "R2min = R2*(1-ΔR2)\n",
    "R1max = R1*(1+ΔR1)\n",
    "R2max = R2*(1+ΔR2)\n",
    "\n",
    "#Incertidumbre de Av\n",
    "Av = (1 + R2/R1)\n",
    "Avmin = (1 + R2min/R1max)\n",
    "Avmax = (1 + R2max/R1min)\n",
    "\n",
    "ur_Av = (R2/R1)*np.sqrt(ur_R1**2 + ur_R2**2)/Av\n",
    "display(Math(f\"u_r(R_1) = {ur_R1}\"))\n",
    "display(Math(f\"u_r(R_2) = {ur_R2}\"))\n",
    "display(Math(f\"u_r(A_v) = {ur_Av}\"))\n",
    "display(Math(f\"A_{{v}} = {Av:.3f}\"))"
   ]
  },
  {
   "cell_type": "markdown",
   "metadata": {},
   "source": [
    "El factor \\(S\\) que relaciona la entrada con la salida del sensor AD736: $S = 1 \\, \\left[\\frac{V}{V_{rms}}\\right]$, tal que:\n",
    "$$V_{rms} = \\frac{V_{dc}}{S} \\quad (5)$$"
   ]
  },
  {
   "cell_type": "code",
   "execution_count": 8,
   "metadata": {},
   "outputs": [],
   "source": [
    "#Factor de conversión Vrms a Vdc\n",
    "S = 1\n",
    "ΔS = (0.3/100 + 0.003)\n",
    "ur_S = ΔS/2\n",
    "Smin = S*(1-ΔS)\n",
    "Smax = S*(1+ΔS)"
   ]
  },
  {
   "cell_type": "markdown",
   "metadata": {},
   "source": [
    "En la entrada del equipo nos encontramos con un circuito atenuador conformado por:\n",
    "\n",
    "   $R_3 - R_4 - R_5 - R_6 - R_7 - R_8$\n",
    "\n",
    "Donde la impedancia de entrada es:\n",
    "\n",
    "   $R_v = R_3 + R_4 + R_5 + R_6 + R_7 + R_8$"
   ]
  },
  {
   "cell_type": "code",
   "execution_count": 3,
   "metadata": {},
   "outputs": [
    {
     "data": {
      "text/latex": [
       "$\\displaystyle R_V = 10.002 MΩ$"
      ],
      "text/plain": [
       "<IPython.core.display.Math object>"
      ]
     },
     "metadata": {},
     "output_type": "display_data"
    },
    {
     "data": {
      "text/latex": [
       "$\\displaystyle ΔR_v = 12\\%$"
      ],
      "text/plain": [
       "<IPython.core.display.Math object>"
      ]
     },
     "metadata": {},
     "output_type": "display_data"
    }
   ],
   "source": [
    "#Incertidumbre de la Resistencias de entrada\n",
    "R3 = 5700; ΔR3 = 0.05\n",
    "R3min = R3*(1-ΔR3); R3max = R3*(1+ΔR3)\n",
    "ur_R3 = ΔR3/2\n",
    "R4 = 3300; ΔR4 = 0.05\n",
    "R4min = R4*(1-ΔR4); R4max = R4*(1+ΔR4)\n",
    "ur_R4 = ΔR4/2\n",
    "R5 = 750; ΔR5 = 0.05\n",
    "R5min = R5*(1-ΔR5); R5max = R5*(1+ΔR5)\n",
    "ur_R5 = ΔR5/2\n",
    "R6 = 51; ΔR6 = 0.05\n",
    "R6min = R6*(1-ΔR6); R6max = R6*(1+ΔR6)\n",
    "ur_R6 = ΔR6/2\n",
    "R7 = 150; ΔR7 = 0.05\n",
    "R7min = R7*(1-ΔR7); R7max = R7*(1+ΔR7)\n",
    "ur_R7 = ΔR7/2\n",
    "R8 = 51; ΔR8 = 0.05\n",
    "R8min = R8*(1-ΔR8); R8max = R8*(1+ΔR8)\n",
    "ur_R8 = ΔR8/2\n",
    "\n",
    "Rv = (R3+R4+R5+R6+R7+R8)/1000\n",
    "ΔRv = np.sqrt(ΔR3**2 + ΔR4**2 + ΔR5**2 + ΔR6**2 + ΔR7**2 + ΔR8**2)\n",
    "display(Math(f\"R_V = {Rv} MΩ\"))\n",
    "display(Math(f\"ΔR_v = {ΔRv*100:.0f}\\%\"))"
   ]
  },
  {
   "cell_type": "markdown",
   "metadata": {},
   "source": [
    "Luego reagrupamos algunas resistencias:\n",
    "\n",
    "   $R_{34} = R_3 + R_4 \\quad \\text{y} \\quad u_r(R_{34}) = \\sqrt{u_r^2(R_3) + u_r^2(R_4)}$\n",
    "\n",
    "   $R_{58} = R_5 + R_6 + R_7 + R_8 \\quad \\text{y} \\quad u_r(R_{58}) = \\sqrt{u_r^2(R_5) + u_r^2(R_6) + u_r^2(R_7) + u_r^2(R_8)}$"
   ]
  },
  {
   "cell_type": "code",
   "execution_count": 5,
   "metadata": {},
   "outputs": [
    {
     "data": {
      "text/latex": [
       "$\\displaystyle R_{34} = 9000 kΩ$"
      ],
      "text/plain": [
       "<IPython.core.display.Math object>"
      ]
     },
     "metadata": {},
     "output_type": "display_data"
    },
    {
     "data": {
      "text/latex": [
       "$\\displaystyle u_r(R_{34}) = 0.03535533905932738$"
      ],
      "text/plain": [
       "<IPython.core.display.Math object>"
      ]
     },
     "metadata": {},
     "output_type": "display_data"
    },
    {
     "data": {
      "text/latex": [
       "$\\displaystyle R_{58} = 1002 KΩ$"
      ],
      "text/plain": [
       "<IPython.core.display.Math object>"
      ]
     },
     "metadata": {},
     "output_type": "display_data"
    },
    {
     "data": {
      "text/latex": [
       "$\\displaystyle u_r(R_{58}) = 0.05$"
      ],
      "text/plain": [
       "<IPython.core.display.Math object>"
      ]
     },
     "metadata": {},
     "output_type": "display_data"
    }
   ],
   "source": [
    "R34 = R3 + R4\n",
    "R34min = R3min + R4min; R34max = R3max + R4max\n",
    "\n",
    "ur_R34 = np.sqrt(ur_R3**2 + ur_R4**2)\n",
    "R58 = R5 + R6 + R7 + R8\n",
    "R58min = R5min + R6min + R7min + R8min\n",
    "R58max = R5max + R6max + R7max + R8max\n",
    "\n",
    "ur_R58 = np.sqrt(ur_R5**2 + ur_R6**2 + ur_R7**2 + ur_R8**2)\n",
    "display(Math(f\"R_{{34}} = {R34} kΩ\"))\n",
    "display(Math(f\"u_r(R_{{34}}) = {ur_R34}\"))\n",
    "display(Math(f\"R_{{58}} = {R58} KΩ\"))\n",
    "display(Math(f\"u_r(R_{{58}}) = {ur_R58}\"))"
   ]
  },
  {
   "cell_type": "markdown",
   "metadata": {},
   "source": [
    "Definimos para las distintas escalas del equipo un factor de atenuación:\n",
    "\n",
    "   $A_{t_{100mV}} = 1$\n",
    "   \n",
    "   $A_{t_{1V}} = \\frac{R_{34} + R_{58}}{R_{58}}$\n",
    "\n",
    "   Tal que su incertidumbre es:\n",
    "\n",
    "   $u_r(A_{t_{1V}}) = \\frac{R_{34}}{R_{58}} \\cdot \\frac{\\sqrt{u_r^2(R_{34}) + u_r^2(R_{58})}} {A_{t_{1V}}}$"
   ]
  },
  {
   "cell_type": "code",
   "execution_count": 9,
   "metadata": {},
   "outputs": [
    {
     "name": "stdout",
     "output_type": "stream",
     "text": [
      "Para la escala 1V:\n"
     ]
    },
    {
     "data": {
      "text/latex": [
       "$\\displaystyle A_t = 9.982035928143713$"
      ],
      "text/plain": [
       "<IPython.core.display.Math object>"
      ]
     },
     "metadata": {},
     "output_type": "display_data"
    },
    {
     "data": {
      "text/latex": [
       "$\\displaystyle u_r(A_t) = 0.05510249871287893$"
      ],
      "text/plain": [
       "<IPython.core.display.Math object>"
      ]
     },
     "metadata": {},
     "output_type": "display_data"
    }
   ],
   "source": [
    "At100mV = 1\n",
    "ur_At100mV = 0\n",
    "At1V = (R34+R58)/R58\n",
    "At1Vmin = (R34min+R58min)/R58max\n",
    "At1Vmax = (R34max+R58max)/R58min\n",
    "ur_At1V = (R34/R58)*np.sqrt(ur_R34**2 + ur_R58**2)/At1V\n",
    "print(\"Para la escala 1V:\")\n",
    "At = At1V\n",
    "Atmin = At1Vmin\n",
    "Atmax = At1Vmax\n",
    "ur_At = ur_At1V\n",
    "display(Math(f\"A_t = {At}\"))\n",
    "display(Math(f\"u_r(A_t) = {ur_At}\"))"
   ]
  },
  {
   "cell_type": "markdown",
   "metadata": {},
   "source": [
    "Para una señal de entrada $V_{{in}}$, producto de circuito de atenuación, obtenemos la señal que ingresa al sensor:\n",
    "\n",
    "$V_{in} = V_{rms} \\cdot {A_t}\\quad (6)$"
   ]
  },
  {
   "cell_type": "markdown",
   "metadata": {},
   "source": [
    "Finalmente obtenemos la expresión que relaciona la señal de entrada $V_{in}$, en función de las cuentas indicadas $C_I$ a partir de la ecuación 3 en 5, y este útilmo reemplazado en la ecuación 6:\n",
    "$$V_{in} = C_I \\cdot \\frac{V_{\\text{ref}}}{2^N \\cdot A_v \\cdot S}\\cdot A_t \\quad (7)$$"
   ]
  },
  {
   "cell_type": "markdown",
   "metadata": {},
   "source": [
    "La Resolución del equipo se calcula mediante la siguiente ecuación:\n",
    "\n",
    "$$V_{\\text{in}}(C_I) = \\frac{C_I \\cdot V_{\\text{ref}}}{2^N \\cdot A_v \\cdot S} \\cdot A_t$$\n",
    "\n",
    "Por lo tanto, la resolución se expresa como la diferencia entre \n",
    "\n",
    "$$ΔV_{in} = V_{in}(C_I) - V_in(C_I-1) → ΔV_{in} = C_I\\cdot \\frac{V_{ref}}{2^N\\cdot A_v\\cdot S\\cdot A_t} - (C_I-1)\\cdot \\frac{V_{ref}}{2^N\\cdot A_v \\cdot S}\\cdot A_t$$\n",
    "\n",
    "Resolución:\n",
    "\n",
    "$$ΔV_{in} =\\frac{V_{ref}}{2^N\\cdot A_v \\cdot S}\\cdot A_t\\quad (8)$$\n",
    "\n",
    "Evaluamos la ecuación 8 para el peor de los casos:\n",
    "\n",
    "$$ΔV_{in} =\\frac{V_{ref_{max}}}{2^N\\cdot Av_{min} \\cdot S_{min}}\\cdot At_{max}$$\n",
    "\n"
   ]
  },
  {
   "cell_type": "code",
   "execution_count": 11,
   "metadata": {},
   "outputs": [
    {
     "data": {
      "text/latex": [
       "$\\displaystyle Escala 100mV: ΔV_{in} = 0.1[mV_{rms}]$"
      ],
      "text/plain": [
       "<IPython.core.display.Math object>"
      ]
     },
     "metadata": {},
     "output_type": "display_data"
    },
    {
     "data": {
      "text/latex": [
       "$\\displaystyle Escala    1V: ΔV_{in} = 0.001[V_{rms}]$"
      ],
      "text/plain": [
       "<IPython.core.display.Math object>"
      ]
     },
     "metadata": {},
     "output_type": "display_data"
    }
   ],
   "source": [
    "# Resolución 100mV\n",
    "ΔVin = 1000*Vrefmax/(2**N * Avmin*Smin)\n",
    "display(Math(f\"Escala 100mV: ΔV_{{in}} = {ΔVin:.1f}[mV_{{rms}}]\"))\n",
    "# Resolución 2V\n",
    "ΔVin = Atmax*Vrefmax/((2**N)* Avmin*Smin)\n",
    "display(Math(f\"Escala    1V: ΔV_{{in}} = {ΔVin:.3f}[V_{{rms}}]\"))"
   ]
  },
  {
   "cell_type": "markdown",
   "metadata": {},
   "source": [
    "Pasamos a determinar el valor superior mínimo y el valor superior máximo de tensión RMS de entrada que podemos llegar a medir, para esto reemplazamos la ecuación 1 en la ecuación 7 y obtenemos la siguiente expresión:\n",
    "\n",
    "$$ V_{in} = \\frac{V_{out}\\cdot A_t}{A_v\\cdot S}\\quad (9)$$\n",
    "\n",
    "Donde el valor superiror mínimo es:\n",
    "\n",
    "$$ V_{in_{máx}} = \\frac{V_{out_{máx}}\\cdot A_{t_{mín}} }{A_{v_{máx}}\\cdot S_{máx}}$$"
   ]
  },
  {
   "cell_type": "code",
   "execution_count": 26,
   "metadata": {},
   "outputs": [
    {
     "data": {
      "text/latex": [
       "$\\displaystyle V_{out_{máx}} = 4.975 [V_{rms}]$"
      ],
      "text/plain": [
       "<IPython.core.display.Math object>"
      ]
     },
     "metadata": {},
     "output_type": "display_data"
    },
    {
     "data": {
      "text/latex": [
       "$\\displaystyle A_{v_{máx}} = 48.949$"
      ],
      "text/plain": [
       "<IPython.core.display.Math object>"
      ]
     },
     "metadata": {},
     "output_type": "display_data"
    },
    {
     "data": {
      "text/latex": [
       "$\\displaystyle S_{máx} = 1.006$"
      ],
      "text/plain": [
       "<IPython.core.display.Math object>"
      ]
     },
     "metadata": {},
     "output_type": "display_data"
    },
    {
     "data": {
      "text/latex": [
       "$\\displaystyle Escala\\quad 100mV: V_{in_{máx}} = 102.552[mV_{rms}]$"
      ],
      "text/plain": [
       "<IPython.core.display.Math object>"
      ]
     },
     "metadata": {},
     "output_type": "display_data"
    }
   ],
   "source": [
    "Vinmax = (1000*Vrefmax)/(Avmax*Smax)\n",
    "display(Math(f\"V_{{out_{{máx}}}} = {Voutmax:.3f} [V_{{rms}}]\"))\n",
    "display(Math(f\"A_{{v_{{máx}}}} = {Avmax:.3f}\"))\n",
    "display(Math(f\"S_{{máx}} = {Smax:.3f}\"))\n",
    "display(Math(f\"Escala\\quad 100mV: V_{{in_{{máx}}}} = {Vinmax:.3f}[mV_{{rms}}]\"))"
   ]
  },
  {
   "cell_type": "code",
   "execution_count": 13,
   "metadata": {},
   "outputs": [
    {
     "data": {
      "text/latex": [
       "$\\displaystyle V_{out_{máx}} = 4.975 [V_{rms}]$"
      ],
      "text/plain": [
       "<IPython.core.display.Math object>"
      ]
     },
     "metadata": {},
     "output_type": "display_data"
    },
    {
     "data": {
      "text/latex": [
       "$\\displaystyle A_{t_{mín}} = 9.031$"
      ],
      "text/plain": [
       "<IPython.core.display.Math object>"
      ]
     },
     "metadata": {},
     "output_type": "display_data"
    },
    {
     "data": {
      "text/latex": [
       "$\\displaystyle A_{v_{máx}} = 48.949$"
      ],
      "text/plain": [
       "<IPython.core.display.Math object>"
      ]
     },
     "metadata": {},
     "output_type": "display_data"
    },
    {
     "data": {
      "text/latex": [
       "$\\displaystyle S_{máx} = 1.006$"
      ],
      "text/plain": [
       "<IPython.core.display.Math object>"
      ]
     },
     "metadata": {},
     "output_type": "display_data"
    },
    {
     "data": {
      "text/latex": [
       "$\\displaystyle Escala\\quad 1V: V_{in_{máx}} = 0.926[V_{rms}]$"
      ],
      "text/plain": [
       "<IPython.core.display.Math object>"
      ]
     },
     "metadata": {},
     "output_type": "display_data"
    }
   ],
   "source": [
    "Vinmax = (Vrefmax*Atmin)/(Avmax*Smax)\n",
    "display(Math(f\"V_{{out_{{máx}}}} = {Voutmax:.3f} [V_{{rms}}]\"))\n",
    "display(Math(f\"A_{{t_{{mín}}}} = {Atmin:.3f}\"))\n",
    "display(Math(f\"A_{{v_{{máx}}}} = {Avmax:.3f}\"))\n",
    "display(Math(f\"S_{{máx}} = {Smax:.3f}\"))\n",
    "display(Math(f\"Escala\\quad 1V: V_{{in_{{máx}}}} = {Vinmax:.3f}[V_{{rms}}]\"))"
   ]
  },
  {
   "cell_type": "markdown",
   "metadata": {},
   "source": [
    "Para el valor inferior máximo es:\n",
    "\n",
    "$$ V_{in_{mín}} = \\frac{V_{out_{min}}\\cdot A_{t_{máx}} }{A_{v_{min}}\\cdot S_{mín}}$$\n"
   ]
  },
  {
   "cell_type": "code",
   "execution_count": 28,
   "metadata": {},
   "outputs": [
    {
     "data": {
      "text/latex": [
       "$\\displaystyle V_{out_{min}} = 0.025 [mV_{rms}]$"
      ],
      "text/plain": [
       "<IPython.core.display.Math object>"
      ]
     },
     "metadata": {},
     "output_type": "display_data"
    },
    {
     "data": {
      "text/latex": [
       "$\\displaystyle A_{v_{mín}} = 47.069$"
      ],
      "text/plain": [
       "<IPython.core.display.Math object>"
      ]
     },
     "metadata": {},
     "output_type": "display_data"
    },
    {
     "data": {
      "text/latex": [
       "$\\displaystyle S_{mín} = 0.994$"
      ],
      "text/plain": [
       "<IPython.core.display.Math object>"
      ]
     },
     "metadata": {},
     "output_type": "display_data"
    },
    {
     "data": {
      "text/latex": [
       "$\\displaystyle Escala\\quad 100mV: V_{in_{mín}} = 0.534[mV_{rms}]$"
      ],
      "text/plain": [
       "<IPython.core.display.Math object>"
      ]
     },
     "metadata": {},
     "output_type": "display_data"
    }
   ],
   "source": [
    "Vinmin = (Voutmin*1000)/(Avmin*Smin)\n",
    "display(Math(f\"V_{{out_{{min}}}} = {Voutmin:.3f} [mV_{{rms}}]\"))\n",
    "display(Math(f\"A_{{v_{{mín}}}} = {Avmin:.3f}\"))\n",
    "display(Math(f\"S_{{mín}} = {Smin:.3f}\"))\n",
    "display(Math(f\"Escala\\quad 100mV: V_{{in_{{mín}}}} = {Vinmin:.3f}[mV_{{rms}}]\"))"
   ]
  },
  {
   "cell_type": "code",
   "execution_count": 15,
   "metadata": {},
   "outputs": [
    {
     "data": {
      "text/latex": [
       "$\\displaystyle V_{out_{min}} = 0.025 [V_{rms}]$"
      ],
      "text/plain": [
       "<IPython.core.display.Math object>"
      ]
     },
     "metadata": {},
     "output_type": "display_data"
    },
    {
     "data": {
      "text/latex": [
       "$\\displaystyle A_{t_{máx}} = 11.033$"
      ],
      "text/plain": [
       "<IPython.core.display.Math object>"
      ]
     },
     "metadata": {},
     "output_type": "display_data"
    },
    {
     "data": {
      "text/latex": [
       "$\\displaystyle A_{v_{mín}} = 47.069$"
      ],
      "text/plain": [
       "<IPython.core.display.Math object>"
      ]
     },
     "metadata": {},
     "output_type": "display_data"
    },
    {
     "data": {
      "text/latex": [
       "$\\displaystyle S_{mín} = 0.994$"
      ],
      "text/plain": [
       "<IPython.core.display.Math object>"
      ]
     },
     "metadata": {},
     "output_type": "display_data"
    },
    {
     "data": {
      "text/latex": [
       "$\\displaystyle Escala\\quad 1V: V_{in_{mín}} = 0.006[V_{rms}]$"
      ],
      "text/plain": [
       "<IPython.core.display.Math object>"
      ]
     },
     "metadata": {},
     "output_type": "display_data"
    }
   ],
   "source": [
    "Vinmin = (Voutmin*Atmax)/(Avmin*Smin)\n",
    "display(Math(f\"V_{{out_{{min}}}} = {Voutmin:.3f} [V_{{rms}}]\"))\n",
    "display(Math(f\"A_{{t_{{máx}}}} = {Atmax:.3f}\"))\n",
    "display(Math(f\"A_{{v_{{mín}}}} = {Avmin:.3f}\"))\n",
    "display(Math(f\"S_{{mín}} = {Smin:.3f}\"))\n",
    "display(Math(f\"Escala\\quad 1V: V_{{in_{{mín}}}} = {Vinmin:.3f}[V_{{rms}}]\"))"
   ]
  },
  {
   "cell_type": "code",
   "execution_count": 16,
   "metadata": {},
   "outputs": [
    {
     "data": {
      "text/latex": [
       "$\\displaystyle Escala\\quad 1V: V_{in_{máx}} = 0.926[V_{rms}]$"
      ],
      "text/plain": [
       "<IPython.core.display.Math object>"
      ]
     },
     "metadata": {},
     "output_type": "display_data"
    }
   ],
   "source": [
    "Vinmáx = (1023*Vrefmin*Atmin)/(2**N*Avmax*Smax)\n",
    "display(Math(f\"Escala\\quad 1V: V_{{in_{{máx}}}} = {Vinmax:.3f}[V_{{rms}}]\"))"
   ]
  },
  {
   "cell_type": "code",
   "execution_count": 25,
   "metadata": {},
   "outputs": [
    {
     "data": {
      "image/png": "[encoded data removed]",
      "text/plain": [
       "<Figure size 640x480 with 1 Axes>"
      ]
     },
     "metadata": {},
     "output_type": "display_data"
    }
   ],
   "source": [
    "import pandas as pd\n",
    "import matplotlib.pyplot as plt\n",
    "\n",
    "# Lee los datos desde el archivo Excel\n",
    "archivo_excel = 'MedicionesAD736v2.xlsx'\n",
    "df = pd.read_excel(archivo_excel)\n",
    "\n",
    "# Supongamos que tienes columnas llamadas 'Frecuencia' y 'Respuesta_dB'\n",
    "columna_frecuencia = 'Frecuencia'\n",
    "columna_respuesta_db = 'Tension'\n",
    "\n",
    "# Verifica y limpia los datos si es necesario\n",
    "df = df.dropna(subset=[columna_frecuencia, columna_respuesta_db])\n",
    "df[columna_frecuencia] = pd.to_numeric(df[columna_frecuencia], errors='coerce')\n",
    "df[columna_respuesta_db] = pd.to_numeric(df[columna_respuesta_db], errors='coerce')\n",
    "\n",
    "# Trazar la respuesta en frecuencia en dB\n",
    "plt.plot(df[columna_frecuencia], df[columna_respuesta_db], label='Respuesta en dB')\n",
    "plt.xscale('log')  # Escala logarítmica para la frecuencia\n",
    "plt.title('Respuesta en Frecuencia (dB)')\n",
    "plt.xlabel('Frecuencia (Hz)')\n",
    "plt.ylabel('Respuesta (dB)')\n",
    "plt.legend()\n",
    "plt.grid(True)\n",
    "plt.show()"
   ]
  },
  {
   "cell_type": "code",
   "execution_count": 23,
   "metadata": {},
   "outputs": [
    {
     "name": "stdout",
     "output_type": "stream",
     "text": [
      "Ecuación de la regresión lineal: y = 1.1734 * x + -21.2994\n"
     ]
    },
    {
     "data": {
      "image/png": "[encoded data removed]",
      "text/plain": [
       "<Figure size 640x480 with 1 Axes>"
      ]
     },
     "metadata": {},
     "output_type": "display_data"
    }
   ],
   "source": [
    "import pandas as pd\n",
    "from sklearn.linear_model import LinearRegression\n",
    "import matplotlib.pyplot as plt\n",
    "\n",
    "# Lee los datos desde el archivo Excel\n",
    "archivo_excel = 'MedicionesAD736v2.xlsx'\n",
    "df = pd.read_excel(archivo_excel)\n",
    "\n",
    "# Supongamos que tienes columnas llamadas 'X' y 'Y' en tu archivo Excel\n",
    "columna_x = 'Vi'\n",
    "columna_y = 'Vv'\n",
    "\n",
    "# Verifica y limpia los datos si es necesario\n",
    "df = df.dropna(subset=[columna_x, columna_y])\n",
    "df[columna_x] = pd.to_numeric(df[columna_x], errors='coerce')\n",
    "df[columna_y] = pd.to_numeric(df[columna_y], errors='coerce')\n",
    "\n",
    "# Crear un modelo de regresión lineal\n",
    "modelo = LinearRegression()\n",
    "\n",
    "# Ajustar el modelo con los datos\n",
    "X = df[[columna_x]]\n",
    "y = df[columna_y]\n",
    "modelo.fit(X, y)\n",
    "\n",
    "# Obtener los coeficientes de la regresión lineal\n",
    "pendiente = modelo.coef_[0]\n",
    "intercepto = modelo.intercept_\n",
    "\n",
    "# Imprimir la ecuación lineal\n",
    "print(f'Ecuación de la regresión lineal: y = {pendiente:.4f} * x + {intercepto:.4f}')\n",
    "\n",
    "# Trazar los datos y la línea de regresión\n",
    "plt.scatter(df[columna_x], df[columna_y], label='Datos')\n",
    "plt.plot(df[columna_x], modelo.predict(X), color='red', label='Regresión lineal')\n",
    "plt.title('Regresión Lineal')\n",
    "plt.xlabel('Eje X')\n",
    "plt.ylabel('Eje Y')\n",
    "plt.legend()\n",
    "plt.show()\n"
   ]
  },
  {
   "cell_type": "markdown",
   "metadata": {},
   "source": []
  },
  {
   "cell_type": "markdown",
   "metadata": {},
   "source": [
    "<div style=\"text-align: left;\">\n",
    "  <span style=\"border: 2px solid white; padding: 5px; display: inline-block; background-color: green; font-family: 'American Typewriter', 'Courier New', Courier, 'Lucida Sans Typewriter', 'Lucida Typewriter', monospace; font-size: 20px; color: #FFFFFF; font-weight: bold;\">\n",
    "    VIII.\tAnálisis y conclusiones referidas a la incertidumbre lograda.\n",
    "  </span>\n",
    "</div>"
   ]
  }
 ],
 "metadata": {
  "kernelspec": {
   "display_name": "Python 3",
   "language": "python",
   "name": "python3"
  },
  "language_info": {
   "codemirror_mode": {
    "name": "ipython",
    "version": 3
   },
   "file_extension": ".py",
   "mimetype": "text/x-python",
   "name": "python",
   "nbconvert_exporter": "python",
   "pygments_lexer": "ipython3",
   "version": "3.10.11"
  }
 },
 "nbformat": 4,
 "nbformat_minor": 2
}
